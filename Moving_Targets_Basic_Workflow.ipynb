{
 "cells": [
  {
   "cell_type": "markdown",
   "metadata": {},
   "source": [
    "# Moving Targets: Basic Workflow"
   ]
  },
  {
   "cell_type": "markdown",
   "metadata": {},
   "source": [
    "#### Imports"
   ]
  },
  {
   "cell_type": "code",
   "execution_count": 1,
   "metadata": {},
   "outputs": [],
   "source": [
    "import target\n",
    "import plotting\n",
    "import mast_tap"
   ]
  },
  {
   "cell_type": "markdown",
   "metadata": {},
   "source": [
    "#### Target Parameters\n",
    "\n",
    "Setting some parameters up front that will be used elsewhere."
   ]
  },
  {
   "cell_type": "code",
   "execution_count": 2,
   "metadata": {},
   "outputs": [],
   "source": [
    "# 599 Luisa (A906 HF)\n",
    "# obj_name = '599'  \n",
    "# id_type = 'smallbody'\n",
    "# times = {'start':'2010-01-01', 'stop':'2010-01-10', 'step':'1d'}\n",
    "\n",
    "# Jupiter Barycenter\n",
    "obj_name = '5'\n",
    "id_type='majorbody'\n",
    "# times={'start': '2019-04-01', 'stop': '2019-04-10', 'step': '1d'} # WFC3\n",
    "times = {'start': '1997-07-10', 'stop': '1997-07-15', 'step': '12h'} # WFPC2\n",
    "\n",
    "location = None # Geocentric default"
   ]
  },
  {
   "cell_type": "markdown",
   "metadata": {},
   "source": [
    "#### Get the ephemerides as an astropy table"
   ]
  },
  {
   "cell_type": "code",
   "execution_count": 3,
   "metadata": {},
   "outputs": [
    {
     "data": {
      "text/html": [
       "<i>Table masked=True length=11</i>\n",
       "<table id=\"table5871599520\" class=\"table-striped table-bordered table-condensed\">\n",
       "<thead><tr><th>targetname</th><th>datetime_str</th><th>datetime_jd</th><th>solar_presence</th><th>flags</th><th>RA</th><th>DEC</th><th>RA_app</th><th>DEC_app</th><th>RA_rate</th><th>DEC_rate</th><th>AZ</th><th>EL</th><th>AZ_rate</th><th>EL_rate</th><th>sat_X</th><th>sat_Y</th><th>sat_PANG</th><th>siderealtime</th><th>airmass</th><th>magextinct</th><th>V</th><th>surfbright</th><th>illumination</th><th>illum_defect</th><th>sat_sep</th><th>sat_vis</th><th>ang_width</th><th>PDObsLon</th><th>PDObsLat</th><th>PDSunLon</th><th>PDSunLat</th><th>SubSol_ang</th><th>SubSol_dist</th><th>NPole_ang</th><th>NPole_dist</th><th>EclLon</th><th>EclLat</th><th>r</th><th>r_rate</th><th>delta</th><th>delta_rate</th><th>lighttime</th><th>vel_sun</th><th>vel_obs</th><th>elong</th><th>elongFlag</th><th>alpha</th><th>lunar_elong</th><th>lunar_illum</th><th>sat_alpha</th><th>sunTargetPA</th><th>velocityPA</th><th>OrbPlaneAng</th><th>constellation</th><th>TDB-UT</th><th>ObsEclLon</th><th>ObsEclLat</th><th>NPole_RA</th><th>NPole_DEC</th><th>GlxLon</th><th>GlxLat</th><th>solartime</th><th>earth_lighttime</th><th>RA_3sigma</th><th>DEC_3sigma</th><th>SMAA_3sigma</th><th>SMIA_3sigma</th><th>Theta_3sigma</th><th>Area_3sigma</th><th>RSS_3sigma</th><th>r_3sigma</th><th>r_rate_3sigma</th><th>SBand_3sigma</th><th>XBand_3sigma</th><th>DoppDelay_3sigma</th><th>true_anom</th><th>hour_angle</th><th>alpha_true</th><th>PABLon</th><th>PABLat</th></tr></thead>\n",
       "<thead><tr><th>---</th><th>---</th><th>d</th><th>---</th><th>---</th><th>deg</th><th>deg</th><th>deg</th><th>deg</th><th>arcsec / h</th><th>arcsec / h</th><th>deg</th><th>deg</th><th>arcsec / min</th><th>arcsec / min</th><th>arcsec</th><th>arcsec</th><th>deg</th><th>---</th><th>---</th><th>mag</th><th>mag</th><th>mag / arcsec2</th><th>%</th><th>arcsec</th><th>arcsec</th><th>---</th><th>arcsec</th><th>deg</th><th>deg</th><th>deg</th><th>deg</th><th>deg</th><th>arcsec</th><th>deg</th><th>arcsec</th><th>deg</th><th>deg</th><th>AU</th><th>km / s</th><th>AU</th><th>km / s</th><th>min</th><th>km / s</th><th>km / s</th><th>deg</th><th>---</th><th>deg</th><th>deg</th><th>%</th><th>deg</th><th>deg</th><th>deg</th><th>deg</th><th>---</th><th>s</th><th>deg</th><th>deg</th><th>deg</th><th>deg</th><th>deg</th><th>deg</th><th>---</th><th>min</th><th>arcsec</th><th>arcsec</th><th>arcsec</th><th>arcsec</th><th>deg</th><th>arcsec2</th><th>arcsec</th><th>km</th><th>km / s</th><th>Hz</th><th>Hz</th><th>s</th><th>deg</th><th>---</th><th>deg</th><th>deg</th><th>deg</th></tr></thead>\n",
       "<thead><tr><th>str22</th><th>str17</th><th>float64</th><th>str1</th><th>str1</th><th>float64</th><th>float64</th><th>float64</th><th>float64</th><th>float64</th><th>float64</th><th>int64</th><th>int64</th><th>int64</th><th>int64</th><th>float64</th><th>float64</th><th>float64</th><th>int64</th><th>int64</th><th>int64</th><th>float64</th><th>float64</th><th>float64</th><th>float64</th><th>float64</th><th>str1</th><th>float64</th><th>float64</th><th>float64</th><th>float64</th><th>float64</th><th>float64</th><th>float64</th><th>float64</th><th>float64</th><th>float64</th><th>float64</th><th>float64</th><th>float64</th><th>float64</th><th>float64</th><th>float64</th><th>float64</th><th>float64</th><th>float64</th><th>str2</th><th>float64</th><th>float64</th><th>float64</th><th>float64</th><th>float64</th><th>float64</th><th>float64</th><th>str3</th><th>float64</th><th>float64</th><th>float64</th><th>float64</th><th>float64</th><th>float64</th><th>float64</th><th>int64</th><th>float64</th><th>int64</th><th>int64</th><th>int64</th><th>int64</th><th>int64</th><th>int64</th><th>int64</th><th>int64</th><th>int64</th><th>int64</th><th>int64</th><th>int64</th><th>float64</th><th>int64</th><th>float64</th><th>float64</th><th>float64</th></tr></thead>\n",
       "<tr><td>Jupiter Barycenter (5)</td><td>1997-Jul-10 00:00</td><td>2450639.5</td><td></td><td></td><td>323.26981</td><td>-15.46547</td><td>323.23942</td><td>-15.4735</td><td>-12.5223</td><td>-4.80315</td><td>--</td><td>--</td><td>--</td><td>--</td><td>-486564.79</td><td>-135821.53</td><td>275.917</td><td>--</td><td>999</td><td>--</td><td>-2.737</td><td>5.361</td><td>99.70476</td><td>0.139</td><td>530015.7</td><td>*</td><td>47.07856</td><td>251.856954</td><td>0.256035</td><td>258.074885</td><td>-0.17764</td><td>72.78</td><td>2.55</td><td>339.3006</td><td>22.012</td><td>314.3562</td><td>-0.7275</td><td>5.072450894588</td><td>-0.5561347</td><td>4.1875881624539</td><td>-14.9062478</td><td>34.82710876</td><td>13.3952782</td><td>18.7149946</td><td>147.2266</td><td>/L</td><td>6.2342</td><td>154.4</td><td>23.8178</td><td>26.5392</td><td>252.776</td><td>252.402</td><td>0.04085</td><td>Cap</td><td>63.183863</td><td>320.5515207</td><td>-0.8808769</td><td>268.0575</td><td>64.49581</td><td>36.645037</td><td>-42.66319</td><td>--</td><td>0.0</td><td>--</td><td>--</td><td>--</td><td>--</td><td>--</td><td>--</td><td>--</td><td>--</td><td>--</td><td>--</td><td>--</td><td>--</td><td>299.6263</td><td>--</td><td>6.2295</td><td>317.4677</td><td>-0.8054</td></tr>\n",
       "<tr><td>Jupiter Barycenter (5)</td><td>1997-Jul-10 12:00</td><td>2450640.0</td><td></td><td></td><td>323.2262</td><td>-15.48158</td><td>323.19584</td><td>-15.4896</td><td>-12.698</td><td>-4.85651</td><td>--</td><td>--</td><td>--</td><td>--</td><td>-488631.74</td><td>-135651.29</td><td>276.083</td><td>--</td><td>999</td><td>--</td><td>-2.74</td><td>5.361</td><td>99.71309</td><td>0.1352</td><td>531893.1</td><td>*</td><td>47.12667</td><td>327.191458</td><td>0.256272</td><td>333.320781</td><td>-0.174926</td><td>72.83</td><td>2.52</td><td>339.312</td><td>22.034</td><td>314.3998</td><td>-0.7283</td><td>5.07229032277</td><td>-0.555903</td><td>4.18331380774304</td><td>-14.6970516</td><td>34.79156004</td><td>13.3956936</td><td>18.6362857</td><td>147.7481</td><td>/L</td><td>6.1456</td><td>148.5</td><td>27.9576</td><td>26.1063</td><td>252.818</td><td>252.414</td><td>0.0435</td><td>Cap</td><td>63.183849</td><td>320.5065779</td><td>-0.8827465</td><td>268.0575</td><td>64.49581</td><td>36.60269</td><td>-42.630731</td><td>--</td><td>0.0</td><td>--</td><td>--</td><td>--</td><td>--</td><td>--</td><td>--</td><td>--</td><td>--</td><td>--</td><td>--</td><td>--</td><td>--</td><td>299.6698</td><td>--</td><td>6.1409</td><td>317.467</td><td>-0.8068</td></tr>\n",
       "<tr><td>Jupiter Barycenter (5)</td><td>1997-Jul-11 00:00</td><td>2450640.5</td><td></td><td></td><td>323.18198</td><td>-15.49786</td><td>323.15165</td><td>-15.50586</td><td>-12.8717</td><td>-4.90903</td><td>--</td><td>--</td><td>--</td><td>--</td><td>-490705.76</td><td>-135475.96</td><td>276.248</td><td>--</td><td>999</td><td>--</td><td>-2.743</td><td>5.36</td><td>99.72136</td><td>0.1314</td><td>533772.7</td><td>*</td><td>47.17418</td><td>42.526265</td><td>0.256473</td><td>48.566369</td><td>-0.172212</td><td>72.87</td><td>2.49</td><td>339.3236</td><td>22.057</td><td>314.4435</td><td>-0.7291</td><td>5.072129818013</td><td>-0.555671</td><td>4.17910006209106</td><td>-14.486481</td><td>34.75651539</td><td>13.3961088</td><td>18.5583719</td><td>148.2702</td><td>/L</td><td>6.0565</td><td>142.6</td><td>32.2989</td><td>25.6733</td><td>252.86</td><td>252.425</td><td>0.04616</td><td>Cap</td><td>63.183835</td><td>320.461026</td><td>-0.8846065</td><td>268.0575</td><td>64.49581</td><td>36.55985</td><td>-42.597793</td><td>--</td><td>0.0</td><td>--</td><td>--</td><td>--</td><td>--</td><td>--</td><td>--</td><td>--</td><td>--</td><td>--</td><td>--</td><td>--</td><td>--</td><td>299.7133</td><td>--</td><td>6.0517</td><td>317.466</td><td>-0.8081</td></tr>\n",
       "<tr><td>Jupiter Barycenter (5)</td><td>1997-Jul-11 12:00</td><td>2450641.0</td><td></td><td></td><td>323.13715</td><td>-15.51432</td><td>323.10685</td><td>-15.5223</td><td>-13.0433</td><td>-4.96067</td><td>--</td><td>--</td><td>--</td><td>--</td><td>-492786.77</td><td>-135295.55</td><td>276.41</td><td>--</td><td>999</td><td>--</td><td>-2.746</td><td>5.359</td><td>99.72956</td><td>0.1277</td><td>535654.4</td><td>*</td><td>47.22111</td><td>117.861365</td><td>0.256638</td><td>123.811648</td><td>-0.169498</td><td>72.91</td><td>2.45</td><td>339.3354</td><td>22.079</td><td>314.4872</td><td>-0.7299</td><td>5.071969380409</td><td>-0.5554387</td><td>4.17494731862665</td><td>-14.2745621</td><td>34.72197807</td><td>13.3965239</td><td>18.4812753</td><td>148.7929</td><td>/L</td><td>5.9667</td><td>136.6</td><td>36.8108</td><td>25.2404</td><td>252.904</td><td>252.437</td><td>0.04881</td><td>Cap</td><td>63.183821</td><td>320.4148729</td><td>-0.8864569</td><td>268.0575</td><td>64.49581</td><td>36.516526</td><td>-42.564383</td><td>--</td><td>0.0</td><td>--</td><td>--</td><td>--</td><td>--</td><td>--</td><td>--</td><td>--</td><td>--</td><td>--</td><td>--</td><td>--</td><td>--</td><td>299.7568</td><td>--</td><td>5.9619</td><td>317.4648</td><td>-0.8094</td></tr>\n",
       "<tr><td>Jupiter Barycenter (5)</td><td>1997-Jul-12 00:00</td><td>2450641.5</td><td></td><td></td><td>323.09174</td><td>-15.53095</td><td>323.06147</td><td>-15.53891</td><td>-13.2128</td><td>-5.01145</td><td>--</td><td>--</td><td>--</td><td>--</td><td>-494874.71</td><td>-135110.08</td><td>276.572</td><td>--</td><td>999</td><td>--</td><td>-2.749</td><td>5.359</td><td>99.73769</td><td>0.124</td><td>537538.2</td><td>*</td><td>47.26743</td><td>193.196749</td><td>0.256767</td><td>199.056615</td><td>-0.166784</td><td>72.96</td><td>2.42</td><td>339.3474</td><td>22.1</td><td>314.5308</td><td>-0.7308</td><td>5.071809010052</td><td>-0.5552061</td><td>4.17085596294579</td><td>-14.061321</td><td>34.6879513</td><td>13.3969389</td><td>18.4050182</td><td>149.3162</td><td>/L</td><td>5.8764</td><td>130.7</td><td>41.4619</td><td>24.8075</td><td>252.949</td><td>252.449</td><td>0.05147</td><td>Cap</td><td>63.183807</td><td>320.3681266</td><td>-0.8882976</td><td>268.0575</td><td>64.49581</td><td>36.472726</td><td>-42.530505</td><td>--</td><td>0.0</td><td>--</td><td>--</td><td>--</td><td>--</td><td>--</td><td>--</td><td>--</td><td>--</td><td>--</td><td>--</td><td>--</td><td>--</td><td>299.8003</td><td>--</td><td>5.8715</td><td>317.4632</td><td>-0.8107</td></tr>\n",
       "<tr><td>Jupiter Barycenter (5)</td><td>1997-Jul-12 12:00</td><td>2450642.0</td><td></td><td></td><td>323.04573</td><td>-15.54774</td><td>323.0155</td><td>-15.55569</td><td>-13.3801</td><td>-5.06135</td><td>--</td><td>--</td><td>--</td><td>--</td><td>-496969.52</td><td>-134919.56</td><td>276.731</td><td>--</td><td>999</td><td>--</td><td>-2.752</td><td>5.358</td><td>99.74574</td><td>0.1203</td><td>539424.0</td><td>*</td><td>47.31314</td><td>268.532406</td><td>0.256861</td><td>274.30127</td><td>-0.164069</td><td>73.0</td><td>2.38</td><td>339.3596</td><td>22.122</td><td>314.5745</td><td>-0.7316</td><td>5.071648707032</td><td>-0.5549732</td><td>4.16682637307917</td><td>-13.846784</td><td>34.65443823</td><td>13.3973537</td><td>18.3296229</td><td>149.84</td><td>/L</td><td>5.7854</td><td>124.6</td><td>46.2198</td><td>24.3746</td><td>252.996</td><td>252.461</td><td>0.05413</td><td>Cap</td><td>63.183793</td><td>320.3207952</td><td>-0.8901283</td><td>268.0575</td><td>64.49581</td><td>36.428458</td><td>-42.496165</td><td>--</td><td>0.0</td><td>--</td><td>--</td><td>--</td><td>--</td><td>--</td><td>--</td><td>--</td><td>--</td><td>--</td><td>--</td><td>--</td><td>--</td><td>299.8438</td><td>--</td><td>5.7806</td><td>317.4614</td><td>-0.812</td></tr>\n",
       "<tr><td>Jupiter Barycenter (5)</td><td>1997-Jul-13 00:00</td><td>2450642.5</td><td></td><td></td><td>322.99915</td><td>-15.56471</td><td>322.96895</td><td>-15.57263</td><td>-13.5453</td><td>-5.11036</td><td>--</td><td>--</td><td>--</td><td>--</td><td>-499071.12</td><td>-134724.0</td><td>276.888</td><td>--</td><td>999</td><td>--</td><td>-2.755</td><td>5.357</td><td>99.75373</td><td>0.1166</td><td>541312.0</td><td>*</td><td>47.35823</td><td>343.868327</td><td>0.25692</td><td>349.545609</td><td>-0.161354</td><td>73.05</td><td>2.35</td><td>339.3719</td><td>22.143</td><td>314.6182</td><td>-0.7324</td><td>5.071488471441</td><td>-0.5547399</td><td>4.16285891944618</td><td>-13.6309775</td><td>34.62144192</td><td>13.3977683</td><td>18.2551126</td><td>150.3644</td><td>/L</td><td>5.6939</td><td>118.6</td><td>51.0505</td><td>23.9417</td><td>253.044</td><td>252.474</td><td>0.05678</td><td>Cap</td><td>63.183779</td><td>320.2728869</td><td>-0.8919489</td><td>268.0575</td><td>64.49581</td><td>36.383732</td><td>-42.461367</td><td>--</td><td>0.0</td><td>--</td><td>--</td><td>--</td><td>--</td><td>--</td><td>--</td><td>--</td><td>--</td><td>--</td><td>--</td><td>--</td><td>--</td><td>299.8874</td><td>--</td><td>5.689</td><td>317.4592</td><td>-0.8133</td></tr>\n",
       "<tr><td>Jupiter Barycenter (5)</td><td>1997-Jul-13 12:00</td><td>2450643.0</td><td></td><td></td><td>322.952</td><td>-15.58183</td><td>322.92183</td><td>-15.58974</td><td>-13.7082</td><td>-5.15846</td><td>--</td><td>--</td><td>--</td><td>--</td><td>-501179.43</td><td>-134523.42</td><td>277.043</td><td>--</td><td>999</td><td>--</td><td>-2.757</td><td>5.357</td><td>99.76163</td><td>0.113</td><td>543201.9</td><td>*</td><td>47.4027</td><td>59.204503</td><td>0.256943</td><td>64.789631</td><td>-0.158639</td><td>73.1</td><td>2.31</td><td>339.3843</td><td>22.164</td><td>314.6618</td><td>-0.7332</td><td>5.071328303373</td><td>-0.5545064</td><td>4.15895396480433</td><td>-13.4139282</td><td>34.5889654</td><td>13.3981828</td><td>18.1815105</td><td>150.8894</td><td>/L</td><td>5.6018</td><td>112.5</td><td>55.9179</td><td>23.5088</td><td>253.093</td><td>252.486</td><td>0.05944</td><td>Cap</td><td>63.183765</td><td>320.2244099</td><td>-0.8937593</td><td>268.0575</td><td>64.49581</td><td>36.338556</td><td>-42.426116</td><td>--</td><td>0.0</td><td>--</td><td>--</td><td>--</td><td>--</td><td>--</td><td>--</td><td>--</td><td>--</td><td>--</td><td>--</td><td>--</td><td>--</td><td>299.9309</td><td>--</td><td>5.5969</td><td>317.4568</td><td>-0.8146</td></tr>\n",
       "<tr><td>Jupiter Barycenter (5)</td><td>1997-Jul-14 00:00</td><td>2450643.5</td><td></td><td></td><td>322.90428</td><td>-15.59911</td><td>322.87414</td><td>-15.607</td><td>-13.8689</td><td>-5.20567</td><td>--</td><td>--</td><td>--</td><td>--</td><td>-503294.39</td><td>-134317.82</td><td>277.197</td><td>--</td><td>999</td><td>--</td><td>-2.76</td><td>5.356</td><td>99.76945</td><td>0.1094</td><td>545093.8</td><td>*</td><td>47.44653</td><td>134.540924</td><td>0.256931</td><td>140.033334</td><td>-0.155923</td><td>73.15</td><td>2.28</td><td>339.397</td><td>22.184</td><td>314.7055</td><td>-0.7341</td><td>5.071168202919</td><td>-0.5542725</td><td>4.15511186420615</td><td>-13.1956628</td><td>34.55701163</td><td>13.3985972</td><td>18.1088407</td><td>151.4149</td><td>/L</td><td>5.5092</td><td>106.3</td><td>60.7831</td><td>23.0759</td><td>253.143</td><td>252.499</td><td>0.0621</td><td>Cap</td><td>63.183751</td><td>320.1753727</td><td>-0.8955593</td><td>268.0575</td><td>64.49581</td><td>36.29294</td><td>-42.390419</td><td>--</td><td>0.0</td><td>--</td><td>--</td><td>--</td><td>--</td><td>--</td><td>--</td><td>--</td><td>--</td><td>--</td><td>--</td><td>--</td><td>--</td><td>299.9744</td><td>--</td><td>5.5043</td><td>317.4541</td><td>-0.8158</td></tr>\n",
       "<tr><td>Jupiter Barycenter (5)</td><td>1997-Jul-14 12:00</td><td>2450644.0</td><td></td><td></td><td>322.85601</td><td>-15.61655</td><td>322.8259</td><td>-15.62442</td><td>-14.0274</td><td>-5.25196</td><td>--</td><td>--</td><td>--</td><td>--</td><td>-505415.91</td><td>-134107.24</td><td>277.348</td><td>--</td><td>999</td><td>--</td><td>-2.763</td><td>5.356</td><td>99.77719</td><td>0.1058</td><td>546987.7</td><td>*</td><td>47.48972</td><td>209.87758</td><td>0.256885</td><td>215.276717</td><td>-0.153208</td><td>73.2</td><td>2.24</td><td>339.4097</td><td>22.204</td><td>314.7492</td><td>-0.7349</td><td>5.07100817017</td><td>-0.5540383</td><td>4.1513329649791</td><td>-12.9762079</td><td>34.52558348</td><td>13.3990114</td><td>18.0371278</td><td>151.941</td><td>/L</td><td>5.416</td><td>100.0</td><td>65.6037</td><td>22.643</td><td>253.195</td><td>252.512</td><td>0.06476</td><td>Cap</td><td>63.183737</td><td>320.1257836</td><td>-0.8973488</td><td>268.0575</td><td>64.49581</td><td>36.246892</td><td>-42.354281</td><td>--</td><td>0.0</td><td>--</td><td>--</td><td>--</td><td>--</td><td>--</td><td>--</td><td>--</td><td>--</td><td>--</td><td>--</td><td>--</td><td>--</td><td>300.0179</td><td>--</td><td>5.411</td><td>317.4511</td><td>-0.8171</td></tr>\n",
       "<tr><td>Jupiter Barycenter (5)</td><td>1997-Jul-15 00:00</td><td>2450644.5</td><td></td><td></td><td>322.80718</td><td>-15.63414</td><td>322.77712</td><td>-15.64198</td><td>-14.1836</td><td>-5.29733</td><td>--</td><td>--</td><td>--</td><td>--</td><td>-507543.91</td><td>-133891.67</td><td>277.496</td><td>--</td><td>999</td><td>--</td><td>-2.765</td><td>5.355</td><td>99.78484</td><td>0.1023</td><td>548883.5</td><td>*</td><td>47.53226</td><td>285.214462</td><td>0.256804</td><td>290.519777</td><td>-0.150492</td><td>73.26</td><td>2.2</td><td>339.4227</td><td>22.224</td><td>314.7929</td><td>-0.7357</td><td>5.070848205219</td><td>-0.5538038</td><td>4.14761760674712</td><td>-12.7555903</td><td>34.49468379</td><td>13.3994254</td><td>17.9663974</td><td>152.4676</td><td>/L</td><td>5.3222</td><td>93.6</td><td>70.3335</td><td>22.2102</td><td>253.249</td><td>252.525</td><td>0.06741</td><td>Cap</td><td>63.183723</td><td>320.0756509</td><td>-0.8991276</td><td>268.0575</td><td>64.49581</td><td>36.200421</td><td>-42.317706</td><td>--</td><td>0.0</td><td>--</td><td>--</td><td>--</td><td>--</td><td>--</td><td>--</td><td>--</td><td>--</td><td>--</td><td>--</td><td>--</td><td>--</td><td>300.0614</td><td>--</td><td>5.3172</td><td>317.4479</td><td>-0.8184</td></tr>\n",
       "</table>"
      ],
      "text/plain": [
       "<Table masked=True length=11>\n",
       "      targetname          datetime_str   datetime_jd ...  PABLon   PABLat\n",
       "         ---                  ---             d      ...   deg      deg  \n",
       "        str22                str17         float64   ... float64  float64\n",
       "---------------------- ----------------- ----------- ... -------- -------\n",
       "Jupiter Barycenter (5) 1997-Jul-10 00:00   2450639.5 ... 317.4677 -0.8054\n",
       "Jupiter Barycenter (5) 1997-Jul-10 12:00   2450640.0 ...  317.467 -0.8068\n",
       "Jupiter Barycenter (5) 1997-Jul-11 00:00   2450640.5 ...  317.466 -0.8081\n",
       "Jupiter Barycenter (5) 1997-Jul-11 12:00   2450641.0 ... 317.4648 -0.8094\n",
       "Jupiter Barycenter (5) 1997-Jul-12 00:00   2450641.5 ... 317.4632 -0.8107\n",
       "Jupiter Barycenter (5) 1997-Jul-12 12:00   2450642.0 ... 317.4614  -0.812\n",
       "Jupiter Barycenter (5) 1997-Jul-13 00:00   2450642.5 ... 317.4592 -0.8133\n",
       "Jupiter Barycenter (5) 1997-Jul-13 12:00   2450643.0 ... 317.4568 -0.8146\n",
       "Jupiter Barycenter (5) 1997-Jul-14 00:00   2450643.5 ... 317.4541 -0.8158\n",
       "Jupiter Barycenter (5) 1997-Jul-14 12:00   2450644.0 ... 317.4511 -0.8171\n",
       "Jupiter Barycenter (5) 1997-Jul-15 00:00   2450644.5 ... 317.4479 -0.8184"
      ]
     },
     "execution_count": 3,
     "metadata": {},
     "output_type": "execute_result"
    }
   ],
   "source": [
    "eph = target.get_path(obj_name, id_type=id_type, times=times)\n",
    "\n",
    "eph"
   ]
  },
  {
   "cell_type": "markdown",
   "metadata": {},
   "source": [
    "#### Convert this to a space-time coordinate string polygon\n",
    "\n",
    "See http://www.ivoa.net/documents/STC-S/20130917/WD-STC-S-1.0-20130917.html"
   ]
  },
  {
   "cell_type": "code",
   "execution_count": 4,
   "metadata": {},
   "outputs": [
    {
     "data": {
      "text/plain": [
       "'POLYGON 323.26981 -15.47377 323.2262 -15.48988 323.18198 -15.50616 323.13715 -15.52262 323.09174 -15.539250000000001 323.04573 -15.55604 322.99915 -15.57301 322.952 -15.59013 322.90428 -15.60741 322.85601 -15.62485 322.80718 -15.64244 322.80718 -15.62584 322.85601 -15.60825 322.90428 -15.59081 322.952 -15.57353 322.99915 -15.55641 323.04573 -15.539439999999999 323.09174 -15.52265 323.13715 -15.50602 323.18198 -15.489559999999999 323.2262 -15.473279999999999 323.26981 -15.45717 '"
      ]
     },
     "execution_count": 4,
     "metadata": {},
     "output_type": "execute_result"
    }
   ],
   "source": [
    "polygon = target.convert_path_to_polygon(eph)\n",
    "\n",
    "polygon"
   ]
  },
  {
   "cell_type": "markdown",
   "metadata": {},
   "source": [
    "#### Plotting the polygon"
   ]
  },
  {
   "cell_type": "code",
   "execution_count": 5,
   "metadata": {},
   "outputs": [
    {
     "data": {
      "text/html": [
       "\n",
       "    <div class=\"bk-root\">\n",
       "        <a href=\"https://bokeh.org\" target=\"_blank\" class=\"bk-logo bk-logo-small bk-logo-notebook\"></a>\n",
       "        <span id=\"1041\">Loading BokehJS ...</span>\n",
       "    </div>"
      ]
     },
     "metadata": {},
     "output_type": "display_data"
    },
    {
     "data": {
      "application/javascript": [
       "\n",
       "(function(root) {\n",
       "  function now() {\n",
       "    return new Date();\n",
       "  }\n",
       "\n",
       "  var force = true;\n",
       "\n",
       "  if (typeof root._bokeh_onload_callbacks === \"undefined\" || force === true) {\n",
       "    root._bokeh_onload_callbacks = [];\n",
       "    root._bokeh_is_loading = undefined;\n",
       "  }\n",
       "\n",
       "  var JS_MIME_TYPE = 'application/javascript';\n",
       "  var HTML_MIME_TYPE = 'text/html';\n",
       "  var EXEC_MIME_TYPE = 'application/vnd.bokehjs_exec.v0+json';\n",
       "  var CLASS_NAME = 'output_bokeh rendered_html';\n",
       "\n",
       "  /**\n",
       "   * Render data to the DOM node\n",
       "   */\n",
       "  function render(props, node) {\n",
       "    var script = document.createElement(\"script\");\n",
       "    node.appendChild(script);\n",
       "  }\n",
       "\n",
       "  /**\n",
       "   * Handle when an output is cleared or removed\n",
       "   */\n",
       "  function handleClearOutput(event, handle) {\n",
       "    var cell = handle.cell;\n",
       "\n",
       "    var id = cell.output_area._bokeh_element_id;\n",
       "    var server_id = cell.output_area._bokeh_server_id;\n",
       "    // Clean up Bokeh references\n",
       "    if (id != null && id in Bokeh.index) {\n",
       "      Bokeh.index[id].model.document.clear();\n",
       "      delete Bokeh.index[id];\n",
       "    }\n",
       "\n",
       "    if (server_id !== undefined) {\n",
       "      // Clean up Bokeh references\n",
       "      var cmd = \"from bokeh.io.state import curstate; print(curstate().uuid_to_server['\" + server_id + \"'].get_sessions()[0].document.roots[0]._id)\";\n",
       "      cell.notebook.kernel.execute(cmd, {\n",
       "        iopub: {\n",
       "          output: function(msg) {\n",
       "            var id = msg.content.text.trim();\n",
       "            if (id in Bokeh.index) {\n",
       "              Bokeh.index[id].model.document.clear();\n",
       "              delete Bokeh.index[id];\n",
       "            }\n",
       "          }\n",
       "        }\n",
       "      });\n",
       "      // Destroy server and session\n",
       "      var cmd = \"import bokeh.io.notebook as ion; ion.destroy_server('\" + server_id + \"')\";\n",
       "      cell.notebook.kernel.execute(cmd);\n",
       "    }\n",
       "  }\n",
       "\n",
       "  /**\n",
       "   * Handle when a new output is added\n",
       "   */\n",
       "  function handleAddOutput(event, handle) {\n",
       "    var output_area = handle.output_area;\n",
       "    var output = handle.output;\n",
       "\n",
       "    // limit handleAddOutput to display_data with EXEC_MIME_TYPE content only\n",
       "    if ((output.output_type != \"display_data\") || (!output.data.hasOwnProperty(EXEC_MIME_TYPE))) {\n",
       "      return\n",
       "    }\n",
       "\n",
       "    var toinsert = output_area.element.find(\".\" + CLASS_NAME.split(' ')[0]);\n",
       "\n",
       "    if (output.metadata[EXEC_MIME_TYPE][\"id\"] !== undefined) {\n",
       "      toinsert[toinsert.length - 1].firstChild.textContent = output.data[JS_MIME_TYPE];\n",
       "      // store reference to embed id on output_area\n",
       "      output_area._bokeh_element_id = output.metadata[EXEC_MIME_TYPE][\"id\"];\n",
       "    }\n",
       "    if (output.metadata[EXEC_MIME_TYPE][\"server_id\"] !== undefined) {\n",
       "      var bk_div = document.createElement(\"div\");\n",
       "      bk_div.innerHTML = output.data[HTML_MIME_TYPE];\n",
       "      var script_attrs = bk_div.children[0].attributes;\n",
       "      for (var i = 0; i < script_attrs.length; i++) {\n",
       "        toinsert[toinsert.length - 1].firstChild.setAttribute(script_attrs[i].name, script_attrs[i].value);\n",
       "        toinsert[toinsert.length - 1].firstChild.textContent = bk_div.children[0].textContent\n",
       "      }\n",
       "      // store reference to server id on output_area\n",
       "      output_area._bokeh_server_id = output.metadata[EXEC_MIME_TYPE][\"server_id\"];\n",
       "    }\n",
       "  }\n",
       "\n",
       "  function register_renderer(events, OutputArea) {\n",
       "\n",
       "    function append_mime(data, metadata, element) {\n",
       "      // create a DOM node to render to\n",
       "      var toinsert = this.create_output_subarea(\n",
       "        metadata,\n",
       "        CLASS_NAME,\n",
       "        EXEC_MIME_TYPE\n",
       "      );\n",
       "      this.keyboard_manager.register_events(toinsert);\n",
       "      // Render to node\n",
       "      var props = {data: data, metadata: metadata[EXEC_MIME_TYPE]};\n",
       "      render(props, toinsert[toinsert.length - 1]);\n",
       "      element.append(toinsert);\n",
       "      return toinsert\n",
       "    }\n",
       "\n",
       "    /* Handle when an output is cleared or removed */\n",
       "    events.on('clear_output.CodeCell', handleClearOutput);\n",
       "    events.on('delete.Cell', handleClearOutput);\n",
       "\n",
       "    /* Handle when a new output is added */\n",
       "    events.on('output_added.OutputArea', handleAddOutput);\n",
       "\n",
       "    /**\n",
       "     * Register the mime type and append_mime function with output_area\n",
       "     */\n",
       "    OutputArea.prototype.register_mime_type(EXEC_MIME_TYPE, append_mime, {\n",
       "      /* Is output safe? */\n",
       "      safe: true,\n",
       "      /* Index of renderer in `output_area.display_order` */\n",
       "      index: 0\n",
       "    });\n",
       "  }\n",
       "\n",
       "  // register the mime type if in Jupyter Notebook environment and previously unregistered\n",
       "  if (root.Jupyter !== undefined) {\n",
       "    var events = require('base/js/events');\n",
       "    var OutputArea = require('notebook/js/outputarea').OutputArea;\n",
       "\n",
       "    if (OutputArea.prototype.mime_types().indexOf(EXEC_MIME_TYPE) == -1) {\n",
       "      register_renderer(events, OutputArea);\n",
       "    }\n",
       "  }\n",
       "\n",
       "  \n",
       "  if (typeof (root._bokeh_timeout) === \"undefined\" || force === true) {\n",
       "    root._bokeh_timeout = Date.now() + 5000;\n",
       "    root._bokeh_failed_load = false;\n",
       "  }\n",
       "\n",
       "  var NB_LOAD_WARNING = {'data': {'text/html':\n",
       "     \"<div style='background-color: #fdd'>\\n\"+\n",
       "     \"<p>\\n\"+\n",
       "     \"BokehJS does not appear to have successfully loaded. If loading BokehJS from CDN, this \\n\"+\n",
       "     \"may be due to a slow or bad network connection. Possible fixes:\\n\"+\n",
       "     \"</p>\\n\"+\n",
       "     \"<ul>\\n\"+\n",
       "     \"<li>re-rerun `output_notebook()` to attempt to load from CDN again, or</li>\\n\"+\n",
       "     \"<li>use INLINE resources instead, as so:</li>\\n\"+\n",
       "     \"</ul>\\n\"+\n",
       "     \"<code>\\n\"+\n",
       "     \"from bokeh.resources import INLINE\\n\"+\n",
       "     \"output_notebook(resources=INLINE)\\n\"+\n",
       "     \"</code>\\n\"+\n",
       "     \"</div>\"}};\n",
       "\n",
       "  function display_loaded() {\n",
       "    var el = document.getElementById(\"1041\");\n",
       "    if (el != null) {\n",
       "      el.textContent = \"BokehJS is loading...\";\n",
       "    }\n",
       "    if (root.Bokeh !== undefined) {\n",
       "      if (el != null) {\n",
       "        el.textContent = \"BokehJS \" + root.Bokeh.version + \" successfully loaded.\";\n",
       "      }\n",
       "    } else if (Date.now() < root._bokeh_timeout) {\n",
       "      setTimeout(display_loaded, 100)\n",
       "    }\n",
       "  }\n",
       "\n",
       "\n",
       "  function run_callbacks() {\n",
       "    try {\n",
       "      root._bokeh_onload_callbacks.forEach(function(callback) {\n",
       "        if (callback != null)\n",
       "          callback();\n",
       "      });\n",
       "    } finally {\n",
       "      delete root._bokeh_onload_callbacks\n",
       "    }\n",
       "    console.debug(\"Bokeh: all callbacks have finished\");\n",
       "  }\n",
       "\n",
       "  function load_libs(css_urls, js_urls, callback) {\n",
       "    if (css_urls == null) css_urls = [];\n",
       "    if (js_urls == null) js_urls = [];\n",
       "\n",
       "    root._bokeh_onload_callbacks.push(callback);\n",
       "    if (root._bokeh_is_loading > 0) {\n",
       "      console.debug(\"Bokeh: BokehJS is being loaded, scheduling callback at\", now());\n",
       "      return null;\n",
       "    }\n",
       "    if (js_urls == null || js_urls.length === 0) {\n",
       "      run_callbacks();\n",
       "      return null;\n",
       "    }\n",
       "    console.debug(\"Bokeh: BokehJS not loaded, scheduling load and callback at\", now());\n",
       "    root._bokeh_is_loading = css_urls.length + js_urls.length;\n",
       "\n",
       "    function on_load() {\n",
       "      root._bokeh_is_loading--;\n",
       "      if (root._bokeh_is_loading === 0) {\n",
       "        console.debug(\"Bokeh: all BokehJS libraries/stylesheets loaded\");\n",
       "        run_callbacks()\n",
       "      }\n",
       "    }\n",
       "\n",
       "    function on_error() {\n",
       "      console.error(\"failed to load \" + url);\n",
       "    }\n",
       "\n",
       "    for (var i = 0; i < css_urls.length; i++) {\n",
       "      var url = css_urls[i];\n",
       "      const element = document.createElement(\"link\");\n",
       "      element.onload = on_load;\n",
       "      element.onerror = on_error;\n",
       "      element.rel = \"stylesheet\";\n",
       "      element.type = \"text/css\";\n",
       "      element.href = url;\n",
       "      console.debug(\"Bokeh: injecting link tag for BokehJS stylesheet: \", url);\n",
       "      document.body.appendChild(element);\n",
       "    }\n",
       "\n",
       "    const hashes = {\"https://cdn.bokeh.org/bokeh/release/bokeh-2.2.0.min.js\": \"jtq3UzIrk2TfDZfSNGEN0ICKrRWmtzZSQm6i1Xnd3hY3UfU9m98vuEL7JUv7Iway\", \"https://cdn.bokeh.org/bokeh/release/bokeh-widgets-2.2.0.min.js\": \"rRlSZb4FImflqQNhKcvkZq8b+FqcNFxP9CmCO8Vgo9uNXe6wk6yNMlKMrXn+TjeM\", \"https://cdn.bokeh.org/bokeh/release/bokeh-tables-2.2.0.min.js\": \"MJyUmyL5f4wPlABPEp4CF5HzMeAPMvzucE8gEGNH15tAWgHFb2hsPNIEkva89XtP\"};\n",
       "\n",
       "    for (var i = 0; i < js_urls.length; i++) {\n",
       "      var url = js_urls[i];\n",
       "      var element = document.createElement('script');\n",
       "      element.onload = on_load;\n",
       "      element.onerror = on_error;\n",
       "      element.async = false;\n",
       "      element.src = url;\n",
       "      if (url in hashes) {\n",
       "        element.crossOrigin = \"anonymous\";\n",
       "        element.integrity = \"sha384-\" + hashes[url];\n",
       "      }\n",
       "      console.debug(\"Bokeh: injecting script tag for BokehJS library: \", url);\n",
       "      document.head.appendChild(element);\n",
       "    }\n",
       "  };\n",
       "\n",
       "  function inject_raw_css(css) {\n",
       "    const element = document.createElement(\"style\");\n",
       "    element.appendChild(document.createTextNode(css));\n",
       "    document.body.appendChild(element);\n",
       "  }\n",
       "\n",
       "  \n",
       "  var js_urls = [\"https://cdn.bokeh.org/bokeh/release/bokeh-2.2.0.min.js\", \"https://cdn.bokeh.org/bokeh/release/bokeh-widgets-2.2.0.min.js\", \"https://cdn.bokeh.org/bokeh/release/bokeh-tables-2.2.0.min.js\"];\n",
       "  var css_urls = [];\n",
       "  \n",
       "\n",
       "  var inline_js = [\n",
       "    function(Bokeh) {\n",
       "      Bokeh.set_log_level(\"info\");\n",
       "    },\n",
       "    function(Bokeh) {\n",
       "    \n",
       "    \n",
       "    }\n",
       "  ];\n",
       "\n",
       "  function run_inline_js() {\n",
       "    \n",
       "    if (root.Bokeh !== undefined || force === true) {\n",
       "      \n",
       "    for (var i = 0; i < inline_js.length; i++) {\n",
       "      inline_js[i].call(root, root.Bokeh);\n",
       "    }\n",
       "    if (force === true) {\n",
       "        display_loaded();\n",
       "      }} else if (Date.now() < root._bokeh_timeout) {\n",
       "      setTimeout(run_inline_js, 100);\n",
       "    } else if (!root._bokeh_failed_load) {\n",
       "      console.log(\"Bokeh: BokehJS failed to load within specified timeout.\");\n",
       "      root._bokeh_failed_load = true;\n",
       "    } else if (force !== true) {\n",
       "      var cell = $(document.getElementById(\"1041\")).parents('.cell').data().cell;\n",
       "      cell.output_area.append_execute_result(NB_LOAD_WARNING)\n",
       "    }\n",
       "\n",
       "  }\n",
       "\n",
       "  if (root._bokeh_is_loading === 0) {\n",
       "    console.debug(\"Bokeh: BokehJS loaded, going straight to plotting\");\n",
       "    run_inline_js();\n",
       "  } else {\n",
       "    load_libs(css_urls, js_urls, function() {\n",
       "      console.debug(\"Bokeh: BokehJS plotting callback run at\", now());\n",
       "      run_inline_js();\n",
       "    });\n",
       "  }\n",
       "}(window));"
      ],
      "application/vnd.bokehjs_load.v0+json": "\n(function(root) {\n  function now() {\n    return new Date();\n  }\n\n  var force = true;\n\n  if (typeof root._bokeh_onload_callbacks === \"undefined\" || force === true) {\n    root._bokeh_onload_callbacks = [];\n    root._bokeh_is_loading = undefined;\n  }\n\n  \n\n  \n  if (typeof (root._bokeh_timeout) === \"undefined\" || force === true) {\n    root._bokeh_timeout = Date.now() + 5000;\n    root._bokeh_failed_load = false;\n  }\n\n  var NB_LOAD_WARNING = {'data': {'text/html':\n     \"<div style='background-color: #fdd'>\\n\"+\n     \"<p>\\n\"+\n     \"BokehJS does not appear to have successfully loaded. If loading BokehJS from CDN, this \\n\"+\n     \"may be due to a slow or bad network connection. Possible fixes:\\n\"+\n     \"</p>\\n\"+\n     \"<ul>\\n\"+\n     \"<li>re-rerun `output_notebook()` to attempt to load from CDN again, or</li>\\n\"+\n     \"<li>use INLINE resources instead, as so:</li>\\n\"+\n     \"</ul>\\n\"+\n     \"<code>\\n\"+\n     \"from bokeh.resources import INLINE\\n\"+\n     \"output_notebook(resources=INLINE)\\n\"+\n     \"</code>\\n\"+\n     \"</div>\"}};\n\n  function display_loaded() {\n    var el = document.getElementById(\"1041\");\n    if (el != null) {\n      el.textContent = \"BokehJS is loading...\";\n    }\n    if (root.Bokeh !== undefined) {\n      if (el != null) {\n        el.textContent = \"BokehJS \" + root.Bokeh.version + \" successfully loaded.\";\n      }\n    } else if (Date.now() < root._bokeh_timeout) {\n      setTimeout(display_loaded, 100)\n    }\n  }\n\n\n  function run_callbacks() {\n    try {\n      root._bokeh_onload_callbacks.forEach(function(callback) {\n        if (callback != null)\n          callback();\n      });\n    } finally {\n      delete root._bokeh_onload_callbacks\n    }\n    console.debug(\"Bokeh: all callbacks have finished\");\n  }\n\n  function load_libs(css_urls, js_urls, callback) {\n    if (css_urls == null) css_urls = [];\n    if (js_urls == null) js_urls = [];\n\n    root._bokeh_onload_callbacks.push(callback);\n    if (root._bokeh_is_loading > 0) {\n      console.debug(\"Bokeh: BokehJS is being loaded, scheduling callback at\", now());\n      return null;\n    }\n    if (js_urls == null || js_urls.length === 0) {\n      run_callbacks();\n      return null;\n    }\n    console.debug(\"Bokeh: BokehJS not loaded, scheduling load and callback at\", now());\n    root._bokeh_is_loading = css_urls.length + js_urls.length;\n\n    function on_load() {\n      root._bokeh_is_loading--;\n      if (root._bokeh_is_loading === 0) {\n        console.debug(\"Bokeh: all BokehJS libraries/stylesheets loaded\");\n        run_callbacks()\n      }\n    }\n\n    function on_error() {\n      console.error(\"failed to load \" + url);\n    }\n\n    for (var i = 0; i < css_urls.length; i++) {\n      var url = css_urls[i];\n      const element = document.createElement(\"link\");\n      element.onload = on_load;\n      element.onerror = on_error;\n      element.rel = \"stylesheet\";\n      element.type = \"text/css\";\n      element.href = url;\n      console.debug(\"Bokeh: injecting link tag for BokehJS stylesheet: \", url);\n      document.body.appendChild(element);\n    }\n\n    const hashes = {\"https://cdn.bokeh.org/bokeh/release/bokeh-2.2.0.min.js\": \"jtq3UzIrk2TfDZfSNGEN0ICKrRWmtzZSQm6i1Xnd3hY3UfU9m98vuEL7JUv7Iway\", \"https://cdn.bokeh.org/bokeh/release/bokeh-widgets-2.2.0.min.js\": \"rRlSZb4FImflqQNhKcvkZq8b+FqcNFxP9CmCO8Vgo9uNXe6wk6yNMlKMrXn+TjeM\", \"https://cdn.bokeh.org/bokeh/release/bokeh-tables-2.2.0.min.js\": \"MJyUmyL5f4wPlABPEp4CF5HzMeAPMvzucE8gEGNH15tAWgHFb2hsPNIEkva89XtP\"};\n\n    for (var i = 0; i < js_urls.length; i++) {\n      var url = js_urls[i];\n      var element = document.createElement('script');\n      element.onload = on_load;\n      element.onerror = on_error;\n      element.async = false;\n      element.src = url;\n      if (url in hashes) {\n        element.crossOrigin = \"anonymous\";\n        element.integrity = \"sha384-\" + hashes[url];\n      }\n      console.debug(\"Bokeh: injecting script tag for BokehJS library: \", url);\n      document.head.appendChild(element);\n    }\n  };\n\n  function inject_raw_css(css) {\n    const element = document.createElement(\"style\");\n    element.appendChild(document.createTextNode(css));\n    document.body.appendChild(element);\n  }\n\n  \n  var js_urls = [\"https://cdn.bokeh.org/bokeh/release/bokeh-2.2.0.min.js\", \"https://cdn.bokeh.org/bokeh/release/bokeh-widgets-2.2.0.min.js\", \"https://cdn.bokeh.org/bokeh/release/bokeh-tables-2.2.0.min.js\"];\n  var css_urls = [];\n  \n\n  var inline_js = [\n    function(Bokeh) {\n      Bokeh.set_log_level(\"info\");\n    },\n    function(Bokeh) {\n    \n    \n    }\n  ];\n\n  function run_inline_js() {\n    \n    if (root.Bokeh !== undefined || force === true) {\n      \n    for (var i = 0; i < inline_js.length; i++) {\n      inline_js[i].call(root, root.Bokeh);\n    }\n    if (force === true) {\n        display_loaded();\n      }} else if (Date.now() < root._bokeh_timeout) {\n      setTimeout(run_inline_js, 100);\n    } else if (!root._bokeh_failed_load) {\n      console.log(\"Bokeh: BokehJS failed to load within specified timeout.\");\n      root._bokeh_failed_load = true;\n    } else if (force !== true) {\n      var cell = $(document.getElementById(\"1041\")).parents('.cell').data().cell;\n      cell.output_area.append_execute_result(NB_LOAD_WARNING)\n    }\n\n  }\n\n  if (root._bokeh_is_loading === 0) {\n    console.debug(\"Bokeh: BokehJS loaded, going straight to plotting\");\n    run_inline_js();\n  } else {\n    load_libs(css_urls, js_urls, function() {\n      console.debug(\"Bokeh: BokehJS plotting callback run at\", now());\n      run_inline_js();\n    });\n  }\n}(window));"
     },
     "metadata": {},
     "output_type": "display_data"
    },
    {
     "data": {
      "text/html": [
       "\n",
       "\n",
       "\n",
       "\n",
       "\n",
       "\n",
       "  <div class=\"bk-root\" id=\"711e57bc-a001-4bad-b7c3-d71af17348c8\" data-root-id=\"1001\"></div>\n"
      ]
     },
     "metadata": {},
     "output_type": "display_data"
    },
    {
     "data": {
      "application/javascript": [
       "(function(root) {\n",
       "  function embed_document(root) {\n",
       "    \n",
       "  var docs_json = {\"4435e42b-800f-4e65-9dbd-d9c8dfda87c3\":{\"roots\":{\"references\":[{\"attributes\":{\"below\":[{\"id\":\"1010\"}],\"center\":[{\"id\":\"1013\"},{\"id\":\"1017\"},{\"id\":\"1039\"}],\"left\":[{\"id\":\"1014\"}],\"plot_width\":700,\"renderers\":[{\"id\":\"1036\"}],\"title\":{\"id\":\"1043\"},\"toolbar\":{\"id\":\"1025\"},\"x_range\":{\"id\":\"1002\"},\"x_scale\":{\"id\":\"1006\"},\"y_range\":{\"id\":\"1004\"},\"y_scale\":{\"id\":\"1008\"}},\"id\":\"1001\",\"subtype\":\"Figure\",\"type\":\"Plot\"},{\"attributes\":{\"bottom_units\":\"screen\",\"fill_alpha\":0.5,\"fill_color\":\"lightgrey\",\"left_units\":\"screen\",\"level\":\"overlay\",\"line_alpha\":1.0,\"line_color\":\"black\",\"line_dash\":[4,4],\"line_width\":2,\"right_units\":\"screen\",\"top_units\":\"screen\"},\"id\":\"1024\",\"type\":\"BoxAnnotation\"},{\"attributes\":{\"source\":{\"id\":\"1032\"}},\"id\":\"1037\",\"type\":\"CDSView\"},{\"attributes\":{\"flipped\":true},\"id\":\"1004\",\"type\":\"DataRange1d\"},{\"attributes\":{},\"id\":\"1008\",\"type\":\"LinearScale\"},{\"attributes\":{\"end\":{\"id\":\"1038\"},\"line_width\":{\"value\":2},\"source\":null,\"start\":null,\"x_end\":{\"value\":323.2262},\"x_start\":{\"value\":323.26981},\"y_end\":{\"value\":-15.48988},\"y_start\":{\"value\":-15.47377}},\"id\":\"1039\",\"type\":\"Arrow\"},{\"attributes\":{},\"id\":\"1021\",\"type\":\"SaveTool\"},{\"attributes\":{\"axis_label\":\"Dec (deg)\",\"formatter\":{\"id\":\"1045\"},\"ticker\":{\"id\":\"1015\"}},\"id\":\"1014\",\"type\":\"LinearAxis\"},{\"attributes\":{},\"id\":\"1002\",\"type\":\"DataRange1d\"},{\"attributes\":{},\"id\":\"1038\",\"type\":\"VeeHead\"},{\"attributes\":{\"fill_alpha\":{\"value\":0.1},\"fill_color\":{\"value\":\"#1f77b4\"},\"line_alpha\":{\"value\":0.1},\"line_width\":{\"value\":0.5},\"xs\":{\"field\":\"x\"},\"ys\":{\"field\":\"y\"}},\"id\":\"1035\",\"type\":\"Patches\"},{\"attributes\":{\"active_drag\":\"auto\",\"active_inspect\":\"auto\",\"active_multi\":null,\"active_scroll\":\"auto\",\"active_tap\":\"auto\",\"tools\":[{\"id\":\"1018\"},{\"id\":\"1019\"},{\"id\":\"1020\"},{\"id\":\"1021\"},{\"id\":\"1022\"},{\"id\":\"1023\"}]},\"id\":\"1025\",\"type\":\"Toolbar\"},{\"attributes\":{\"data_source\":{\"id\":\"1032\"},\"glyph\":{\"id\":\"1034\"},\"hover_glyph\":null,\"muted_glyph\":null,\"nonselection_glyph\":{\"id\":\"1035\"},\"selection_glyph\":null,\"view\":{\"id\":\"1037\"}},\"id\":\"1036\",\"type\":\"GlyphRenderer\"},{\"attributes\":{\"axis_label\":\"RA (deg)\",\"formatter\":{\"id\":\"1047\"},\"ticker\":{\"id\":\"1011\"}},\"id\":\"1010\",\"type\":\"LinearAxis\"},{\"attributes\":{\"axis\":{\"id\":\"1014\"},\"dimension\":1,\"ticker\":null},\"id\":\"1017\",\"type\":\"Grid\"},{\"attributes\":{\"data\":{\"x\":[[323.26981,323.2262,323.18198,323.13715,323.09174,323.04573,322.99915,322.952,322.90428,322.85601,322.80718,322.80718,322.85601,322.90428,322.952,322.99915,323.04573,323.09174,323.13715,323.18198,323.2262,323.26981]],\"y\":[[-15.47377,-15.48988,-15.50616,-15.52262,-15.539250000000001,-15.55604,-15.57301,-15.59013,-15.60741,-15.62485,-15.64244,-15.62584,-15.60825,-15.59081,-15.57353,-15.55641,-15.539439999999999,-15.52265,-15.50602,-15.489559999999999,-15.473279999999999,-15.45717]]},\"selected\":{\"id\":\"1049\"},\"selection_policy\":{\"id\":\"1050\"}},\"id\":\"1032\",\"type\":\"ColumnDataSource\"},{\"attributes\":{},\"id\":\"1011\",\"type\":\"BasicTicker\"},{\"attributes\":{},\"id\":\"1018\",\"type\":\"PanTool\"},{\"attributes\":{},\"id\":\"1019\",\"type\":\"WheelZoomTool\"},{\"attributes\":{},\"id\":\"1015\",\"type\":\"BasicTicker\"},{\"attributes\":{},\"id\":\"1022\",\"type\":\"ResetTool\"},{\"attributes\":{},\"id\":\"1023\",\"type\":\"HelpTool\"},{\"attributes\":{},\"id\":\"1049\",\"type\":\"Selection\"},{\"attributes\":{\"axis\":{\"id\":\"1010\"},\"ticker\":null},\"id\":\"1013\",\"type\":\"Grid\"},{\"attributes\":{},\"id\":\"1050\",\"type\":\"UnionRenderers\"},{\"attributes\":{\"fill_alpha\":{\"value\":0.1},\"fill_color\":{\"value\":\"#1f77b4\"},\"line_width\":{\"value\":0.5},\"xs\":{\"field\":\"x\"},\"ys\":{\"field\":\"y\"}},\"id\":\"1034\",\"type\":\"Patches\"},{\"attributes\":{},\"id\":\"1045\",\"type\":\"BasicTickFormatter\"},{\"attributes\":{},\"id\":\"1047\",\"type\":\"BasicTickFormatter\"},{\"attributes\":{\"text\":\"\"},\"id\":\"1043\",\"type\":\"Title\"},{\"attributes\":{\"overlay\":{\"id\":\"1024\"}},\"id\":\"1020\",\"type\":\"BoxZoomTool\"},{\"attributes\":{},\"id\":\"1006\",\"type\":\"LinearScale\"}],\"root_ids\":[\"1001\"]},\"title\":\"Bokeh Application\",\"version\":\"2.2.0\"}};\n",
       "  var render_items = [{\"docid\":\"4435e42b-800f-4e65-9dbd-d9c8dfda87c3\",\"root_ids\":[\"1001\"],\"roots\":{\"1001\":\"711e57bc-a001-4bad-b7c3-d71af17348c8\"}}];\n",
       "  root.Bokeh.embed.embed_items_notebook(docs_json, render_items);\n",
       "\n",
       "  }\n",
       "  if (root.Bokeh !== undefined) {\n",
       "    embed_document(root);\n",
       "  } else {\n",
       "    var attempts = 0;\n",
       "    var timer = setInterval(function(root) {\n",
       "      if (root.Bokeh !== undefined) {\n",
       "        clearInterval(timer);\n",
       "        embed_document(root);\n",
       "      } else {\n",
       "        attempts++;\n",
       "        if (attempts > 100) {\n",
       "          clearInterval(timer);\n",
       "          console.log(\"Bokeh: ERROR: Unable to run BokehJS code because BokehJS library is missing\");\n",
       "        }\n",
       "      }\n",
       "    }, 10, root)\n",
       "  }\n",
       "})(window);"
      ],
      "application/vnd.bokehjs_exec.v0+json": ""
     },
     "metadata": {
      "application/vnd.bokehjs_exec.v0+json": {
       "id": "1001"
      }
     },
     "output_type": "display_data"
    }
   ],
   "source": [
    "plotting.notebook_bokeh(polygon)"
   ]
  },
  {
   "cell_type": "markdown",
   "metadata": {},
   "source": [
    "#### TAP Query"
   ]
  },
  {
   "cell_type": "code",
   "execution_count": 6,
   "metadata": {
    "scrolled": true
   },
   "outputs": [
    {
     "name": "stdout",
     "output_type": "stream",
     "text": [
      "Querying MAST...\n"
     ]
    },
    {
     "data": {
      "text/html": [
       "<i>Table length=44</i>\n",
       "<table id=\"table5872474480\" class=\"table-striped table-bordered table-condensed\">\n",
       "<thead><tr><th>dataProduct_Type</th><th>calib_level</th><th>obs_collection</th><th>obs_id</th><th>target_name</th><th>s_ra</th><th>s_dec</th><th>t_min</th><th>t_max</th><th>t_exptime</th><th>wavelength_region</th><th>filters</th><th>em_min</th><th>em_max</th><th>target_classification</th><th>obs_title</th><th>t_obs_release</th><th>instrument_name</th><th>proposal_pi</th><th>proposal_id</th><th>proposal_type</th><th>project</th><th>sequence_number</th><th>provenance_name</th><th>s_region</th><th>jpegURL</th><th>dataURL</th><th>dataRights</th><th>mtFlag</th><th>srcDen</th><th>intentType</th><th>obsID</th><th>objID</th></tr></thead>\n",
       "<thead><tr><th>object</th><th>int32</th><th>object</th><th>object</th><th>object</th><th>float64</th><th>float64</th><th>float64</th><th>float64</th><th>float64</th><th>object</th><th>object</th><th>float64</th><th>float64</th><th>object</th><th>object</th><th>float32</th><th>object</th><th>object</th><th>object</th><th>object</th><th>object</th><th>int32</th><th>object</th><th>object</th><th>object</th><th>object</th><th>object</th><th>bool</th><th>float64</th><th>object</th><th>int64</th><th>int64</th></tr></thead>\n",
       "<tr><td>image</td><td>2</td><td>HST</td><td>u3n60101m</td><td>JUPITER</td><td>323.0448966779</td><td>-15.55050425597</td><td>50641.60362932</td><td>50641.60365247</td><td>2.0</td><td>Optical</td><td>F656N</td><td>655.3</td><td>657.5</td><td>PLANET; JUPITER</td><td>Lightning on Jupiter</td><td>51007.004</td><td>WFPC2/PC</td><td>Caldwell, John J.</td><td>7589</td><td>GTO/OS</td><td>HST</td><td>-999</td><td>CALWFPC2</td><td>POLYGON GSC1 323.04401060 -15.55120651 323.03673813 -15.55850302 323.02916452 -15.55149943 323.03643990 -15.54420312</td><td>mast:HST/product/u3n60101m_c0f.jpg</td><td>mast:HST/product/u3n60101m_c0f.fits</td><td>PUBLIC</td><td>True</td><td>--</td><td>science</td><td>2003628199</td><td>2029973080</td></tr>\n",
       "<tr><td>image</td><td>2</td><td>HST</td><td>u3n60102m</td><td>JUPITER</td><td>323.0447677574</td><td>-15.55055123664</td><td>50641.60501821</td><td>50641.60504135</td><td>2.0</td><td>Optical</td><td>F656N</td><td>655.3</td><td>657.5</td><td>PLANET; JUPITER</td><td>Lightning on Jupiter</td><td>51007.008</td><td>WFPC2/PC</td><td>Caldwell, John J.</td><td>7589</td><td>GTO/OS</td><td>HST</td><td>-999</td><td>CALWFPC2</td><td>POLYGON GSC1 323.04388168 -15.55125349 323.03660920 -15.55855000 323.02903559 -15.55154641 323.03631097 -15.54425010</td><td>mast:HST/product/u3n60102m_c0f.jpg</td><td>mast:HST/product/u3n60102m_c0f.fits</td><td>PUBLIC</td><td>True</td><td>--</td><td>science</td><td>2003628200</td><td>2029968167</td></tr>\n",
       "<tr><td>image</td><td>2</td><td>HST</td><td>u3n60103m</td><td>JUPITER</td><td>323.0446388325</td><td>-15.55059821858</td><td>50641.60640709</td><td>50641.60643024</td><td>2.0</td><td>Optical</td><td>F656N</td><td>655.3</td><td>657.5</td><td>PLANET; JUPITER</td><td>Lightning on Jupiter</td><td>51007.535</td><td>WFPC2/PC</td><td>Caldwell, John J.</td><td>7589</td><td>GTO/OS</td><td>HST</td><td>-999</td><td>CALWFPC2</td><td>POLYGON GSC1 323.04375276 -15.55130047 323.03648028 -15.55859698 323.02890666 -15.55159339 323.03618205 -15.54429708</td><td>mast:HST/product/u3n60103m_c0f.jpg</td><td>mast:HST/product/u3n60103m_c0f.fits</td><td>PUBLIC</td><td>True</td><td>--</td><td>science</td><td>2003628201</td><td>2029968271</td></tr>\n",
       "<tr><td>image</td><td>2</td><td>HST</td><td>u3n60104m</td><td>JUPITER</td><td>323.0445099031</td><td>-15.55064520179</td><td>50641.60779598</td><td>50641.60781913</td><td>2.0</td><td>Optical</td><td>F656N</td><td>655.3</td><td>657.5</td><td>PLANET; JUPITER</td><td>Lightning on Jupiter</td><td>51007.008</td><td>WFPC2/PC</td><td>Caldwell, John J.</td><td>7589</td><td>GTO/OS</td><td>HST</td><td>-999</td><td>CALWFPC2</td><td>POLYGON GSC1 323.04362383 -15.55134746 323.03635135 -15.55864397 323.02877773 -15.55164037 323.03605312 -15.54434406</td><td>mast:HST/product/u3n60104m_c0f.jpg</td><td>mast:HST/product/u3n60104m_c0f.fits</td><td>PUBLIC</td><td>True</td><td>--</td><td>science</td><td>2003628202</td><td>2029965957</td></tr>\n",
       "<tr><td>image</td><td>2</td><td>HST</td><td>u3n60105m</td><td>JUPITER</td><td>323.0443809693</td><td>-15.55069218626</td><td>50641.60918487</td><td>50641.60920802</td><td>2.0</td><td>Optical</td><td>F656N</td><td>655.3</td><td>657.5</td><td>PLANET; JUPITER</td><td>Lightning on Jupiter</td><td>51007.008</td><td>WFPC2/PC</td><td>Caldwell, John J.</td><td>7589</td><td>GTO/OS</td><td>HST</td><td>-999</td><td>CALWFPC2</td><td>POLYGON GSC1 323.04349489 -15.55139444 323.03622241 -15.55869095 323.02864879 -15.55168736 323.03592418 -15.54439105</td><td>mast:HST/product/u3n60105m_c0f.jpg</td><td>mast:HST/product/u3n60105m_c0f.fits</td><td>PUBLIC</td><td>True</td><td>--</td><td>science</td><td>2003628203</td><td>2029971989</td></tr>\n",
       "<tr><td>image</td><td>2</td><td>HST</td><td>u3n60106m</td><td>JUPITER</td><td>323.044252031</td><td>-15.550739172</td><td>50641.61057376</td><td>50641.61059691</td><td>2.0</td><td>Optical</td><td>F656N</td><td>655.3</td><td>657.5</td><td>PLANET; JUPITER</td><td>Lightning on Jupiter</td><td>51007.008</td><td>WFPC2/PC</td><td>Caldwell, John J.</td><td>7589</td><td>GTO/OS</td><td>HST</td><td>-999</td><td>CALWFPC2</td><td>POLYGON GSC1 323.04336595 -15.55144143 323.03609347 -15.55873794 323.02851985 -15.55173435 323.03579524 -15.54443803</td><td>mast:HST/product/u3n60106m_c0f.jpg</td><td>mast:HST/product/u3n60106m_c0f.fits</td><td>PUBLIC</td><td>True</td><td>--</td><td>science</td><td>2003628204</td><td>2029972135</td></tr>\n",
       "<tr><td>image</td><td>2</td><td>HST</td><td>u3n60107m</td><td>JUPITER</td><td>323.0441230882</td><td>-15.55078615901</td><td>50641.61196265</td><td>50641.6119858</td><td>2.0</td><td>Optical</td><td>F656N</td><td>655.3</td><td>657.5</td><td>PLANET; JUPITER</td><td>Lightning on Jupiter</td><td>51007.01</td><td>WFPC2/PC</td><td>Caldwell, John J.</td><td>7589</td><td>GTO/OS</td><td>HST</td><td>-999</td><td>CALWFPC2</td><td>POLYGON GSC1 323.04323701 -15.55148841 323.03596453 -15.55878492 323.02839091 -15.55178133 323.03566629 -15.54448502</td><td>mast:HST/product/u3n60107m_c0f.jpg</td><td>mast:HST/product/u3n60107m_c0f.fits</td><td>PUBLIC</td><td>True</td><td>--</td><td>science</td><td>2003628205</td><td>2029972171</td></tr>\n",
       "<tr><td>image</td><td>2</td><td>HST</td><td>u3n60108m</td><td>JUPITER</td><td>323.043994141</td><td>-15.55083314729</td><td>50641.61335154</td><td>50641.61337469</td><td>2.0</td><td>Optical</td><td>F656N</td><td>655.3</td><td>657.5</td><td>PLANET; JUPITER</td><td>Lightning on Jupiter</td><td>51007.008</td><td>WFPC2/PC</td><td>Caldwell, John J.</td><td>7589</td><td>GTO/OS</td><td>HST</td><td>-999</td><td>CALWFPC2</td><td>POLYGON GSC1 323.04310806 -15.55153540 323.03583558 -15.55883191 323.02826196 -15.55182832 323.03553735 -15.54453201</td><td>mast:HST/product/u3n60108m_c0f.jpg</td><td>mast:HST/product/u3n60108m_c0f.fits</td><td>PUBLIC</td><td>True</td><td>--</td><td>science</td><td>2003628206</td><td>2029973178</td></tr>\n",
       "<tr><td>image</td><td>2</td><td>HST</td><td>u3n60109m</td><td>JUPITER</td><td>323.0438651894</td><td>-15.55088013683</td><td>50641.61474043</td><td>50641.61476358</td><td>2.0</td><td>Optical</td><td>F656N</td><td>655.3</td><td>657.5</td><td>PLANET; JUPITER</td><td>Lightning on Jupiter</td><td>51007.0</td><td>WFPC2/PC</td><td>Caldwell, John J.</td><td>7589</td><td>GTO/OS</td><td>HST</td><td>-999</td><td>CALWFPC2</td><td>POLYGON GSC1 323.04297911 -15.55158239 323.03570662 -15.55887890 323.02813300 -15.55187531 323.03540839 -15.54457900</td><td>mast:HST/product/u3n60109m_c0f.jpg</td><td>mast:HST/product/u3n60109m_c0f.fits</td><td>PUBLIC</td><td>True</td><td>--</td><td>science</td><td>2003628207</td><td>2029972838</td></tr>\n",
       "<tr><td>image</td><td>2</td><td>HST</td><td>u3n6010am</td><td>JUPITER</td><td>323.0437362333</td><td>-15.55092712764</td><td>50641.61612932</td><td>50641.61615247</td><td>2.0</td><td>Optical</td><td>F656N</td><td>655.3</td><td>657.5</td><td>PLANET; JUPITER</td><td>Lightning on Jupiter</td><td>51007.01</td><td>WFPC2/PC</td><td>Caldwell, John J.</td><td>7589</td><td>GTO/OS</td><td>HST</td><td>-999</td><td>CALWFPC2</td><td>POLYGON GSC1 323.04285016 -15.55162938 323.03557767 -15.55892589 323.02800404 -15.55192230 323.03527943 -15.54462599</td><td>mast:HST/product/u3n6010am_c0f.jpg</td><td>mast:HST/product/u3n6010am_c0f.fits</td><td>PUBLIC</td><td>True</td><td>--</td><td>science</td><td>2003628208</td><td>2029972785</td></tr>\n",
       "<tr><td>...</td><td>...</td><td>...</td><td>...</td><td>...</td><td>...</td><td>...</td><td>...</td><td>...</td><td>...</td><td>...</td><td>...</td><td>...</td><td>...</td><td>...</td><td>...</td><td>...</td><td>...</td><td>...</td><td>...</td><td>...</td><td>...</td><td>...</td><td>...</td><td>...</td><td>...</td><td>...</td><td>...</td><td>...</td><td>...</td><td>...</td><td>...</td><td>...</td></tr>\n",
       "<tr><td>image</td><td>2</td><td>HST</td><td>u3n6010vm</td><td>JUPITER</td><td>323.0377348792</td><td>-15.55311382596</td><td>50641.68071265</td><td>50641.68072422</td><td>1.0</td><td>Optical</td><td>F656N</td><td>655.3</td><td>657.5</td><td>PLANET; JUPITER</td><td>Lightning on Jupiter</td><td>51007.05</td><td>WFPC2/PC</td><td>Caldwell, John J.</td><td>7589</td><td>GTO/OS</td><td>HST</td><td>-999</td><td>CALWFPC2</td><td>POLYGON GSC1 323.03684877 -15.55381606 323.02957600 -15.56111238 323.02200249 -15.55410859 323.02927817 -15.54681247</td><td>mast:HST/product/u3n6010vm_c0f.jpg</td><td>mast:HST/product/u3n6010vm_c0f.fits</td><td>PUBLIC</td><td>True</td><td>--</td><td>science</td><td>2003628229</td><td>2029972814</td></tr>\n",
       "<tr><td>image</td><td>2</td><td>HST</td><td>u3n6010wm</td><td>JUPITER</td><td>323.0376057117</td><td>-15.5531608769</td><td>50641.68210154</td><td>50641.68211311</td><td>1.0</td><td>Optical</td><td>F656N</td><td>655.3</td><td>657.5</td><td>PLANET; JUPITER</td><td>Lightning on Jupiter</td><td>51007.54</td><td>WFPC2/PC</td><td>Caldwell, John J.</td><td>7589</td><td>GTO/OS</td><td>HST</td><td>-999</td><td>CALWFPC2</td><td>POLYGON GSC1 323.03671961 -15.55386311 323.02944683 -15.56115943 323.02187332 -15.55415564 323.02914900 -15.54685952</td><td>mast:HST/product/u3n6010wm_c0f.jpg</td><td>mast:HST/product/u3n6010wm_c0f.fits</td><td>PUBLIC</td><td>True</td><td>--</td><td>science</td><td>2003628230</td><td>2029974966</td></tr>\n",
       "<tr><td>image</td><td>2</td><td>HST</td><td>u3n6010xm</td><td>JUPITER</td><td>323.0374765397</td><td>-15.5532079291</td><td>50641.68349043</td><td>50641.683502</td><td>1.0</td><td>Optical</td><td>F656N</td><td>655.3</td><td>657.5</td><td>PLANET; JUPITER</td><td>Lightning on Jupiter</td><td>51007.05</td><td>WFPC2/PC</td><td>Caldwell, John J.</td><td>7589</td><td>GTO/OS</td><td>HST</td><td>-999</td><td>CALWFPC2</td><td>POLYGON GSC1 323.03659043 -15.55391016 323.02931766 -15.56120648 323.02174414 -15.55420269 323.02901982 -15.54690657</td><td>mast:HST/product/u3n6010xm_c0f.jpg</td><td>mast:HST/product/u3n6010xm_c0f.fits</td><td>PUBLIC</td><td>True</td><td>--</td><td>science</td><td>2003628231</td><td>2029972147</td></tr>\n",
       "<tr><td>image</td><td>2</td><td>HST</td><td>u3n6010ym</td><td>JUPITER</td><td>323.0373473633</td><td>-15.55325498257</td><td>50641.68487932</td><td>50641.68489089</td><td>1.0</td><td>Optical</td><td>F656N</td><td>655.3</td><td>657.5</td><td>PLANET; JUPITER</td><td>Lightning on Jupiter</td><td>51007.055</td><td>WFPC2/PC</td><td>Caldwell, John J.</td><td>7589</td><td>GTO/OS</td><td>HST</td><td>-999</td><td>CALWFPC2</td><td>POLYGON GSC1 323.03646126 -15.55395721 323.02918848 -15.56125353 323.02161496 -15.55424975 323.02889064 -15.54695362</td><td>mast:HST/product/u3n6010ym_c0f.jpg</td><td>mast:HST/product/u3n6010ym_c0f.fits</td><td>PUBLIC</td><td>True</td><td>--</td><td>science</td><td>2003628232</td><td>2029971992</td></tr>\n",
       "<tr><td>image</td><td>2</td><td>HST</td><td>u3n6010zm</td><td>JUPITER</td><td>323.0370244065</td><td>-15.55337266012</td><td>50641.68835154</td><td>50641.68836311</td><td>1.0</td><td>Optical</td><td>F656N</td><td>655.3</td><td>657.5</td><td>PLANET; JUPITER</td><td>Lightning on Jupiter</td><td>51007.055</td><td>WFPC2/PC</td><td>Caldwell, John J.</td><td>7589</td><td>GTO/OS</td><td>HST</td><td>-999</td><td>CALWFPC2</td><td>POLYGON GSC1 323.03613830 -15.55407489 323.02886548 -15.56137118 323.02129199 -15.55436736 323.02856771 -15.54707126</td><td>mast:HST/product/u3n6010zm_c0f.jpg</td><td>mast:HST/product/u3n6010zm_c0f.fits</td><td>PUBLIC</td><td>True</td><td>--</td><td>science</td><td>2003628233</td><td>2029972822</td></tr>\n",
       "<tr><td>image</td><td>2</td><td>HST</td><td>u3n60110m</td><td>JUPITER</td><td>323.0368952145</td><td>-15.55341971802</td><td>50641.68974043</td><td>50641.689752</td><td>1.0</td><td>Optical</td><td>F656N</td><td>655.3</td><td>657.5</td><td>PLANET; JUPITER</td><td>Lightning on Jupiter</td><td>51007.055</td><td>WFPC2/PC</td><td>Caldwell, John J.</td><td>7589</td><td>GTO/OS</td><td>HST</td><td>-999</td><td>CALWFPC2</td><td>POLYGON GSC1 323.03600910 -15.55412194 323.02873629 -15.56141823 323.02116280 -15.55441441 323.02843852 -15.54711832</td><td>mast:HST/product/u3n60110m_c0f.jpg</td><td>mast:HST/product/u3n60110m_c0f.fits</td><td>PUBLIC</td><td>True</td><td>--</td><td>science</td><td>2003628234</td><td>2029968404</td></tr>\n",
       "<tr><td>image</td><td>2</td><td>HST</td><td>u3n60111m</td><td>JUPITER</td><td>323.0367660181</td><td>-15.55346677717</td><td>50641.69112932</td><td>50641.69114089</td><td>1.0</td><td>Optical</td><td>F656N</td><td>655.3</td><td>657.5</td><td>PLANET; JUPITER</td><td>Lightning on Jupiter</td><td>51007.06</td><td>WFPC2/PC</td><td>Caldwell, John J.</td><td>7589</td><td>GTO/OS</td><td>HST</td><td>-999</td><td>CALWFPC2</td><td>POLYGON GSC1 323.03587991 -15.55416900 323.02860709 -15.56146529 323.02103360 -15.55446147 323.02830932 -15.54716538</td><td>mast:HST/product/u3n60111m_c0f.jpg</td><td>mast:HST/product/u3n60111m_c0f.fits</td><td>PUBLIC</td><td>True</td><td>--</td><td>science</td><td>2003628235</td><td>2029968269</td></tr>\n",
       "<tr><td>image</td><td>2</td><td>HST</td><td>u3n60112m</td><td>JUPITER</td><td>323.0366368173</td><td>-15.55351383759</td><td>50641.69251821</td><td>50641.69252978</td><td>1.0</td><td>Optical</td><td>F656N</td><td>655.3</td><td>657.5</td><td>PLANET; JUPITER</td><td>Lightning on Jupiter</td><td>51007.06</td><td>WFPC2/PC</td><td>Caldwell, John J.</td><td>7589</td><td>GTO/OS</td><td>HST</td><td>-999</td><td>CALWFPC2</td><td>POLYGON GSC1 323.03575071 -15.55421606 323.02847789 -15.56151235 323.02090439 -15.55450853 323.02818012 -15.54721244</td><td>mast:HST/product/u3n60112m_c0f.jpg</td><td>mast:HST/product/u3n60112m_c0f.fits</td><td>PUBLIC</td><td>True</td><td>--</td><td>science</td><td>2003628236</td><td>2029972175</td></tr>\n",
       "<tr><td>image</td><td>2</td><td>HST</td><td>u3n60113m</td><td>JUPITER</td><td>323.036507612</td><td>-15.55356089928</td><td>50641.69390709</td><td>50641.69399969</td><td>8.0</td><td>Optical</td><td>F656N</td><td>655.3</td><td>657.5</td><td>PLANET; JUPITER</td><td>Lightning on Jupiter</td><td>51007.06</td><td>WFPC2/PC</td><td>Caldwell, John J.</td><td>7589</td><td>GTO/OS</td><td>HST</td><td>-999</td><td>CALWFPC2</td><td>POLYGON GSC1 323.03562150 -15.55426313 323.02834868 -15.56155942 323.02077519 -15.55455560 323.02805091 -15.54725950</td><td>mast:HST/product/u3n60113m_c0f.jpg</td><td>mast:HST/product/u3n60113m_c0f.fits</td><td>PUBLIC</td><td>True</td><td>--</td><td>science</td><td>2003628237</td><td>2029972803</td></tr>\n",
       "<tr><td>image</td><td>2</td><td>HST</td><td>u3n60114m</td><td>JUPITER</td><td>323.0363784023</td><td>-15.55360796223</td><td>50641.69529598</td><td>50641.69538858</td><td>8.0</td><td>Optical</td><td>F656N</td><td>655.3</td><td>657.5</td><td>PLANET; JUPITER</td><td>Lightning on Jupiter</td><td>51007.06</td><td>WFPC2/PC</td><td>Caldwell, John J.</td><td>7589</td><td>GTO/OS</td><td>HST</td><td>-999</td><td>CALWFPC2</td><td>POLYGON GSC1 323.03549229 -15.55431019 323.02821947 -15.56160648 323.02064597 -15.55460266 323.02792170 -15.54730657</td><td>mast:HST/product/u3n60114m_c0f.jpg</td><td>mast:HST/product/u3n60114m_c0f.fits</td><td>PUBLIC</td><td>True</td><td>--</td><td>science</td><td>2003628238</td><td>2029972950</td></tr>\n",
       "</table>"
      ],
      "text/plain": [
       "<Table length=44>\n",
       "dataProduct_Type calib_level obs_collection ... intentType   obsID      objID   \n",
       "     object         int32        object     ...   object     int64      int64   \n",
       "---------------- ----------- -------------- ... ---------- ---------- ----------\n",
       "           image           2            HST ...    science 2003628199 2029973080\n",
       "           image           2            HST ...    science 2003628200 2029968167\n",
       "           image           2            HST ...    science 2003628201 2029968271\n",
       "           image           2            HST ...    science 2003628202 2029965957\n",
       "           image           2            HST ...    science 2003628203 2029971989\n",
       "           image           2            HST ...    science 2003628204 2029972135\n",
       "           image           2            HST ...    science 2003628205 2029972171\n",
       "           image           2            HST ...    science 2003628206 2029973178\n",
       "           image           2            HST ...    science 2003628207 2029972838\n",
       "           image           2            HST ...    science 2003628208 2029972785\n",
       "             ...         ...            ... ...        ...        ...        ...\n",
       "           image           2            HST ...    science 2003628229 2029972814\n",
       "           image           2            HST ...    science 2003628230 2029974966\n",
       "           image           2            HST ...    science 2003628231 2029972147\n",
       "           image           2            HST ...    science 2003628232 2029971992\n",
       "           image           2            HST ...    science 2003628233 2029972822\n",
       "           image           2            HST ...    science 2003628234 2029968404\n",
       "           image           2            HST ...    science 2003628235 2029968269\n",
       "           image           2            HST ...    science 2003628236 2029972175\n",
       "           image           2            HST ...    science 2003628237 2029972803\n",
       "           image           2            HST ...    science 2003628238 2029972950"
      ]
     },
     "execution_count": 6,
     "metadata": {},
     "output_type": "execute_result"
    }
   ],
   "source": [
    "start_time = min(eph['datetime_jd']) - 2400000.5\n",
    "end_time = max(eph['datetime_jd']) - 2400000.5\n",
    "\n",
    "# If no start/end time supplied, any observation in that footprint would be matched\n",
    "# results = mast_tap.run_tap_query(polygon, start_time=None, end_time=None, maxrec=100)\n",
    "\n",
    "results = mast_tap.run_tap_query(polygon, start_time=start_time, end_time=end_time, maxrec=100)\n",
    "\n",
    "results"
   ]
  },
  {
   "cell_type": "markdown",
   "metadata": {},
   "source": [
    "Filter results to only include the ones where the target was in the field of view of the observation. "
   ]
  },
  {
   "cell_type": "code",
   "execution_count": 7,
   "metadata": {
    "scrolled": true
   },
   "outputs": [
    {
     "name": "stdout",
     "output_type": "stream",
     "text": [
      "Verifying footprints...\n"
     ]
    },
    {
     "data": {
      "text/html": [
       "<i>Table length=44</i>\n",
       "<table id=\"table5872357232\" class=\"table-striped table-bordered table-condensed\">\n",
       "<thead><tr><th>dataProduct_Type</th><th>calib_level</th><th>obs_collection</th><th>obs_id</th><th>target_name</th><th>s_ra</th><th>s_dec</th><th>t_min</th><th>t_max</th><th>t_exptime</th><th>wavelength_region</th><th>filters</th><th>em_min</th><th>em_max</th><th>target_classification</th><th>obs_title</th><th>t_obs_release</th><th>instrument_name</th><th>proposal_pi</th><th>proposal_id</th><th>proposal_type</th><th>project</th><th>sequence_number</th><th>provenance_name</th><th>s_region</th><th>jpegURL</th><th>dataURL</th><th>dataRights</th><th>mtFlag</th><th>srcDen</th><th>intentType</th><th>obsID</th><th>objID</th><th>t_mid</th><th>in_footprint</th></tr></thead>\n",
       "<thead><tr><th>object</th><th>int32</th><th>object</th><th>object</th><th>object</th><th>float64</th><th>float64</th><th>float64</th><th>float64</th><th>float64</th><th>object</th><th>object</th><th>float64</th><th>float64</th><th>object</th><th>object</th><th>float32</th><th>object</th><th>object</th><th>object</th><th>object</th><th>object</th><th>int32</th><th>object</th><th>object</th><th>object</th><th>object</th><th>object</th><th>bool</th><th>float64</th><th>object</th><th>int64</th><th>int64</th><th>float64</th><th>bool</th></tr></thead>\n",
       "<tr><td>image</td><td>2</td><td>HST</td><td>u3n60101m</td><td>JUPITER</td><td>323.0448966779</td><td>-15.55050425597</td><td>50641.60362932</td><td>50641.60365247</td><td>2.0</td><td>Optical</td><td>F656N</td><td>655.3</td><td>657.5</td><td>PLANET; JUPITER</td><td>Lightning on Jupiter</td><td>51007.004</td><td>WFPC2/PC</td><td>Caldwell, John J.</td><td>7589</td><td>GTO/OS</td><td>HST</td><td>-999</td><td>CALWFPC2</td><td>POLYGON GSC1 323.04401060 -15.55120651 323.03673813 -15.55850302 323.02916452 -15.55149943 323.03643990 -15.54420312</td><td>mast:HST/product/u3n60101m_c0f.jpg</td><td>mast:HST/product/u3n60101m_c0f.fits</td><td>PUBLIC</td><td>True</td><td>--</td><td>science</td><td>2003628199</td><td>2029973080</td><td>2450642.103640895</td><td>True</td></tr>\n",
       "<tr><td>image</td><td>2</td><td>HST</td><td>u3n60102m</td><td>JUPITER</td><td>323.0447677574</td><td>-15.55055123664</td><td>50641.60501821</td><td>50641.60504135</td><td>2.0</td><td>Optical</td><td>F656N</td><td>655.3</td><td>657.5</td><td>PLANET; JUPITER</td><td>Lightning on Jupiter</td><td>51007.008</td><td>WFPC2/PC</td><td>Caldwell, John J.</td><td>7589</td><td>GTO/OS</td><td>HST</td><td>-999</td><td>CALWFPC2</td><td>POLYGON GSC1 323.04388168 -15.55125349 323.03660920 -15.55855000 323.02903559 -15.55154641 323.03631097 -15.54425010</td><td>mast:HST/product/u3n60102m_c0f.jpg</td><td>mast:HST/product/u3n60102m_c0f.fits</td><td>PUBLIC</td><td>True</td><td>--</td><td>science</td><td>2003628200</td><td>2029968167</td><td>2450642.10502978</td><td>True</td></tr>\n",
       "<tr><td>image</td><td>2</td><td>HST</td><td>u3n60103m</td><td>JUPITER</td><td>323.0446388325</td><td>-15.55059821858</td><td>50641.60640709</td><td>50641.60643024</td><td>2.0</td><td>Optical</td><td>F656N</td><td>655.3</td><td>657.5</td><td>PLANET; JUPITER</td><td>Lightning on Jupiter</td><td>51007.535</td><td>WFPC2/PC</td><td>Caldwell, John J.</td><td>7589</td><td>GTO/OS</td><td>HST</td><td>-999</td><td>CALWFPC2</td><td>POLYGON GSC1 323.04375276 -15.55130047 323.03648028 -15.55859698 323.02890666 -15.55159339 323.03618205 -15.54429708</td><td>mast:HST/product/u3n60103m_c0f.jpg</td><td>mast:HST/product/u3n60103m_c0f.fits</td><td>PUBLIC</td><td>True</td><td>--</td><td>science</td><td>2003628201</td><td>2029968271</td><td>2450642.106418665</td><td>True</td></tr>\n",
       "<tr><td>image</td><td>2</td><td>HST</td><td>u3n60104m</td><td>JUPITER</td><td>323.0445099031</td><td>-15.55064520179</td><td>50641.60779598</td><td>50641.60781913</td><td>2.0</td><td>Optical</td><td>F656N</td><td>655.3</td><td>657.5</td><td>PLANET; JUPITER</td><td>Lightning on Jupiter</td><td>51007.008</td><td>WFPC2/PC</td><td>Caldwell, John J.</td><td>7589</td><td>GTO/OS</td><td>HST</td><td>-999</td><td>CALWFPC2</td><td>POLYGON GSC1 323.04362383 -15.55134746 323.03635135 -15.55864397 323.02877773 -15.55164037 323.03605312 -15.54434406</td><td>mast:HST/product/u3n60104m_c0f.jpg</td><td>mast:HST/product/u3n60104m_c0f.fits</td><td>PUBLIC</td><td>True</td><td>--</td><td>science</td><td>2003628202</td><td>2029965957</td><td>2450642.1078075552</td><td>True</td></tr>\n",
       "<tr><td>image</td><td>2</td><td>HST</td><td>u3n60105m</td><td>JUPITER</td><td>323.0443809693</td><td>-15.55069218626</td><td>50641.60918487</td><td>50641.60920802</td><td>2.0</td><td>Optical</td><td>F656N</td><td>655.3</td><td>657.5</td><td>PLANET; JUPITER</td><td>Lightning on Jupiter</td><td>51007.008</td><td>WFPC2/PC</td><td>Caldwell, John J.</td><td>7589</td><td>GTO/OS</td><td>HST</td><td>-999</td><td>CALWFPC2</td><td>POLYGON GSC1 323.04349489 -15.55139444 323.03622241 -15.55869095 323.02864879 -15.55168736 323.03592418 -15.54439105</td><td>mast:HST/product/u3n60105m_c0f.jpg</td><td>mast:HST/product/u3n60105m_c0f.fits</td><td>PUBLIC</td><td>True</td><td>--</td><td>science</td><td>2003628203</td><td>2029971989</td><td>2450642.109196445</td><td>True</td></tr>\n",
       "<tr><td>image</td><td>2</td><td>HST</td><td>u3n60106m</td><td>JUPITER</td><td>323.044252031</td><td>-15.550739172</td><td>50641.61057376</td><td>50641.61059691</td><td>2.0</td><td>Optical</td><td>F656N</td><td>655.3</td><td>657.5</td><td>PLANET; JUPITER</td><td>Lightning on Jupiter</td><td>51007.008</td><td>WFPC2/PC</td><td>Caldwell, John J.</td><td>7589</td><td>GTO/OS</td><td>HST</td><td>-999</td><td>CALWFPC2</td><td>POLYGON GSC1 323.04336595 -15.55144143 323.03609347 -15.55873794 323.02851985 -15.55173435 323.03579524 -15.54443803</td><td>mast:HST/product/u3n60106m_c0f.jpg</td><td>mast:HST/product/u3n60106m_c0f.fits</td><td>PUBLIC</td><td>True</td><td>--</td><td>science</td><td>2003628204</td><td>2029972135</td><td>2450642.110585335</td><td>True</td></tr>\n",
       "<tr><td>image</td><td>2</td><td>HST</td><td>u3n60107m</td><td>JUPITER</td><td>323.0441230882</td><td>-15.55078615901</td><td>50641.61196265</td><td>50641.6119858</td><td>2.0</td><td>Optical</td><td>F656N</td><td>655.3</td><td>657.5</td><td>PLANET; JUPITER</td><td>Lightning on Jupiter</td><td>51007.01</td><td>WFPC2/PC</td><td>Caldwell, John J.</td><td>7589</td><td>GTO/OS</td><td>HST</td><td>-999</td><td>CALWFPC2</td><td>POLYGON GSC1 323.04323701 -15.55148841 323.03596453 -15.55878492 323.02839091 -15.55178133 323.03566629 -15.54448502</td><td>mast:HST/product/u3n60107m_c0f.jpg</td><td>mast:HST/product/u3n60107m_c0f.fits</td><td>PUBLIC</td><td>True</td><td>--</td><td>science</td><td>2003628205</td><td>2029972171</td><td>2450642.111974225</td><td>True</td></tr>\n",
       "<tr><td>image</td><td>2</td><td>HST</td><td>u3n60108m</td><td>JUPITER</td><td>323.043994141</td><td>-15.55083314729</td><td>50641.61335154</td><td>50641.61337469</td><td>2.0</td><td>Optical</td><td>F656N</td><td>655.3</td><td>657.5</td><td>PLANET; JUPITER</td><td>Lightning on Jupiter</td><td>51007.008</td><td>WFPC2/PC</td><td>Caldwell, John J.</td><td>7589</td><td>GTO/OS</td><td>HST</td><td>-999</td><td>CALWFPC2</td><td>POLYGON GSC1 323.04310806 -15.55153540 323.03583558 -15.55883191 323.02826196 -15.55182832 323.03553735 -15.54453201</td><td>mast:HST/product/u3n60108m_c0f.jpg</td><td>mast:HST/product/u3n60108m_c0f.fits</td><td>PUBLIC</td><td>True</td><td>--</td><td>science</td><td>2003628206</td><td>2029973178</td><td>2450642.113363115</td><td>True</td></tr>\n",
       "<tr><td>image</td><td>2</td><td>HST</td><td>u3n60109m</td><td>JUPITER</td><td>323.0438651894</td><td>-15.55088013683</td><td>50641.61474043</td><td>50641.61476358</td><td>2.0</td><td>Optical</td><td>F656N</td><td>655.3</td><td>657.5</td><td>PLANET; JUPITER</td><td>Lightning on Jupiter</td><td>51007.0</td><td>WFPC2/PC</td><td>Caldwell, John J.</td><td>7589</td><td>GTO/OS</td><td>HST</td><td>-999</td><td>CALWFPC2</td><td>POLYGON GSC1 323.04297911 -15.55158239 323.03570662 -15.55887890 323.02813300 -15.55187531 323.03540839 -15.54457900</td><td>mast:HST/product/u3n60109m_c0f.jpg</td><td>mast:HST/product/u3n60109m_c0f.fits</td><td>PUBLIC</td><td>True</td><td>--</td><td>science</td><td>2003628207</td><td>2029972838</td><td>2450642.114752005</td><td>True</td></tr>\n",
       "<tr><td>image</td><td>2</td><td>HST</td><td>u3n6010am</td><td>JUPITER</td><td>323.0437362333</td><td>-15.55092712764</td><td>50641.61612932</td><td>50641.61615247</td><td>2.0</td><td>Optical</td><td>F656N</td><td>655.3</td><td>657.5</td><td>PLANET; JUPITER</td><td>Lightning on Jupiter</td><td>51007.01</td><td>WFPC2/PC</td><td>Caldwell, John J.</td><td>7589</td><td>GTO/OS</td><td>HST</td><td>-999</td><td>CALWFPC2</td><td>POLYGON GSC1 323.04285016 -15.55162938 323.03557767 -15.55892589 323.02800404 -15.55192230 323.03527943 -15.54462599</td><td>mast:HST/product/u3n6010am_c0f.jpg</td><td>mast:HST/product/u3n6010am_c0f.fits</td><td>PUBLIC</td><td>True</td><td>--</td><td>science</td><td>2003628208</td><td>2029972785</td><td>2450642.116140895</td><td>True</td></tr>\n",
       "<tr><td>...</td><td>...</td><td>...</td><td>...</td><td>...</td><td>...</td><td>...</td><td>...</td><td>...</td><td>...</td><td>...</td><td>...</td><td>...</td><td>...</td><td>...</td><td>...</td><td>...</td><td>...</td><td>...</td><td>...</td><td>...</td><td>...</td><td>...</td><td>...</td><td>...</td><td>...</td><td>...</td><td>...</td><td>...</td><td>...</td><td>...</td><td>...</td><td>...</td><td>...</td><td>...</td></tr>\n",
       "<tr><td>image</td><td>2</td><td>HST</td><td>u3n6010vm</td><td>JUPITER</td><td>323.0377348792</td><td>-15.55311382596</td><td>50641.68071265</td><td>50641.68072422</td><td>1.0</td><td>Optical</td><td>F656N</td><td>655.3</td><td>657.5</td><td>PLANET; JUPITER</td><td>Lightning on Jupiter</td><td>51007.05</td><td>WFPC2/PC</td><td>Caldwell, John J.</td><td>7589</td><td>GTO/OS</td><td>HST</td><td>-999</td><td>CALWFPC2</td><td>POLYGON GSC1 323.03684877 -15.55381606 323.02957600 -15.56111238 323.02200249 -15.55410859 323.02927817 -15.54681247</td><td>mast:HST/product/u3n6010vm_c0f.jpg</td><td>mast:HST/product/u3n6010vm_c0f.fits</td><td>PUBLIC</td><td>True</td><td>--</td><td>science</td><td>2003628229</td><td>2029972814</td><td>2450642.180718435</td><td>True</td></tr>\n",
       "<tr><td>image</td><td>2</td><td>HST</td><td>u3n6010wm</td><td>JUPITER</td><td>323.0376057117</td><td>-15.5531608769</td><td>50641.68210154</td><td>50641.68211311</td><td>1.0</td><td>Optical</td><td>F656N</td><td>655.3</td><td>657.5</td><td>PLANET; JUPITER</td><td>Lightning on Jupiter</td><td>51007.54</td><td>WFPC2/PC</td><td>Caldwell, John J.</td><td>7589</td><td>GTO/OS</td><td>HST</td><td>-999</td><td>CALWFPC2</td><td>POLYGON GSC1 323.03671961 -15.55386311 323.02944683 -15.56115943 323.02187332 -15.55415564 323.02914900 -15.54685952</td><td>mast:HST/product/u3n6010wm_c0f.jpg</td><td>mast:HST/product/u3n6010wm_c0f.fits</td><td>PUBLIC</td><td>True</td><td>--</td><td>science</td><td>2003628230</td><td>2029974966</td><td>2450642.182107325</td><td>True</td></tr>\n",
       "<tr><td>image</td><td>2</td><td>HST</td><td>u3n6010xm</td><td>JUPITER</td><td>323.0374765397</td><td>-15.5532079291</td><td>50641.68349043</td><td>50641.683502</td><td>1.0</td><td>Optical</td><td>F656N</td><td>655.3</td><td>657.5</td><td>PLANET; JUPITER</td><td>Lightning on Jupiter</td><td>51007.05</td><td>WFPC2/PC</td><td>Caldwell, John J.</td><td>7589</td><td>GTO/OS</td><td>HST</td><td>-999</td><td>CALWFPC2</td><td>POLYGON GSC1 323.03659043 -15.55391016 323.02931766 -15.56120648 323.02174414 -15.55420269 323.02901982 -15.54690657</td><td>mast:HST/product/u3n6010xm_c0f.jpg</td><td>mast:HST/product/u3n6010xm_c0f.fits</td><td>PUBLIC</td><td>True</td><td>--</td><td>science</td><td>2003628231</td><td>2029972147</td><td>2450642.183496215</td><td>True</td></tr>\n",
       "<tr><td>image</td><td>2</td><td>HST</td><td>u3n6010ym</td><td>JUPITER</td><td>323.0373473633</td><td>-15.55325498257</td><td>50641.68487932</td><td>50641.68489089</td><td>1.0</td><td>Optical</td><td>F656N</td><td>655.3</td><td>657.5</td><td>PLANET; JUPITER</td><td>Lightning on Jupiter</td><td>51007.055</td><td>WFPC2/PC</td><td>Caldwell, John J.</td><td>7589</td><td>GTO/OS</td><td>HST</td><td>-999</td><td>CALWFPC2</td><td>POLYGON GSC1 323.03646126 -15.55395721 323.02918848 -15.56125353 323.02161496 -15.55424975 323.02889064 -15.54695362</td><td>mast:HST/product/u3n6010ym_c0f.jpg</td><td>mast:HST/product/u3n6010ym_c0f.fits</td><td>PUBLIC</td><td>True</td><td>--</td><td>science</td><td>2003628232</td><td>2029971992</td><td>2450642.184885105</td><td>True</td></tr>\n",
       "<tr><td>image</td><td>2</td><td>HST</td><td>u3n6010zm</td><td>JUPITER</td><td>323.0370244065</td><td>-15.55337266012</td><td>50641.68835154</td><td>50641.68836311</td><td>1.0</td><td>Optical</td><td>F656N</td><td>655.3</td><td>657.5</td><td>PLANET; JUPITER</td><td>Lightning on Jupiter</td><td>51007.055</td><td>WFPC2/PC</td><td>Caldwell, John J.</td><td>7589</td><td>GTO/OS</td><td>HST</td><td>-999</td><td>CALWFPC2</td><td>POLYGON GSC1 323.03613830 -15.55407489 323.02886548 -15.56137118 323.02129199 -15.55436736 323.02856771 -15.54707126</td><td>mast:HST/product/u3n6010zm_c0f.jpg</td><td>mast:HST/product/u3n6010zm_c0f.fits</td><td>PUBLIC</td><td>True</td><td>--</td><td>science</td><td>2003628233</td><td>2029972822</td><td>2450642.188357325</td><td>True</td></tr>\n",
       "<tr><td>image</td><td>2</td><td>HST</td><td>u3n60110m</td><td>JUPITER</td><td>323.0368952145</td><td>-15.55341971802</td><td>50641.68974043</td><td>50641.689752</td><td>1.0</td><td>Optical</td><td>F656N</td><td>655.3</td><td>657.5</td><td>PLANET; JUPITER</td><td>Lightning on Jupiter</td><td>51007.055</td><td>WFPC2/PC</td><td>Caldwell, John J.</td><td>7589</td><td>GTO/OS</td><td>HST</td><td>-999</td><td>CALWFPC2</td><td>POLYGON GSC1 323.03600910 -15.55412194 323.02873629 -15.56141823 323.02116280 -15.55441441 323.02843852 -15.54711832</td><td>mast:HST/product/u3n60110m_c0f.jpg</td><td>mast:HST/product/u3n60110m_c0f.fits</td><td>PUBLIC</td><td>True</td><td>--</td><td>science</td><td>2003628234</td><td>2029968404</td><td>2450642.189746215</td><td>True</td></tr>\n",
       "<tr><td>image</td><td>2</td><td>HST</td><td>u3n60111m</td><td>JUPITER</td><td>323.0367660181</td><td>-15.55346677717</td><td>50641.69112932</td><td>50641.69114089</td><td>1.0</td><td>Optical</td><td>F656N</td><td>655.3</td><td>657.5</td><td>PLANET; JUPITER</td><td>Lightning on Jupiter</td><td>51007.06</td><td>WFPC2/PC</td><td>Caldwell, John J.</td><td>7589</td><td>GTO/OS</td><td>HST</td><td>-999</td><td>CALWFPC2</td><td>POLYGON GSC1 323.03587991 -15.55416900 323.02860709 -15.56146529 323.02103360 -15.55446147 323.02830932 -15.54716538</td><td>mast:HST/product/u3n60111m_c0f.jpg</td><td>mast:HST/product/u3n60111m_c0f.fits</td><td>PUBLIC</td><td>True</td><td>--</td><td>science</td><td>2003628235</td><td>2029968269</td><td>2450642.191135105</td><td>True</td></tr>\n",
       "<tr><td>image</td><td>2</td><td>HST</td><td>u3n60112m</td><td>JUPITER</td><td>323.0366368173</td><td>-15.55351383759</td><td>50641.69251821</td><td>50641.69252978</td><td>1.0</td><td>Optical</td><td>F656N</td><td>655.3</td><td>657.5</td><td>PLANET; JUPITER</td><td>Lightning on Jupiter</td><td>51007.06</td><td>WFPC2/PC</td><td>Caldwell, John J.</td><td>7589</td><td>GTO/OS</td><td>HST</td><td>-999</td><td>CALWFPC2</td><td>POLYGON GSC1 323.03575071 -15.55421606 323.02847789 -15.56151235 323.02090439 -15.55450853 323.02818012 -15.54721244</td><td>mast:HST/product/u3n60112m_c0f.jpg</td><td>mast:HST/product/u3n60112m_c0f.fits</td><td>PUBLIC</td><td>True</td><td>--</td><td>science</td><td>2003628236</td><td>2029972175</td><td>2450642.192523995</td><td>True</td></tr>\n",
       "<tr><td>image</td><td>2</td><td>HST</td><td>u3n60113m</td><td>JUPITER</td><td>323.036507612</td><td>-15.55356089928</td><td>50641.69390709</td><td>50641.69399969</td><td>8.0</td><td>Optical</td><td>F656N</td><td>655.3</td><td>657.5</td><td>PLANET; JUPITER</td><td>Lightning on Jupiter</td><td>51007.06</td><td>WFPC2/PC</td><td>Caldwell, John J.</td><td>7589</td><td>GTO/OS</td><td>HST</td><td>-999</td><td>CALWFPC2</td><td>POLYGON GSC1 323.03562150 -15.55426313 323.02834868 -15.56155942 323.02077519 -15.55455560 323.02805091 -15.54725950</td><td>mast:HST/product/u3n60113m_c0f.jpg</td><td>mast:HST/product/u3n60113m_c0f.fits</td><td>PUBLIC</td><td>True</td><td>--</td><td>science</td><td>2003628237</td><td>2029972803</td><td>2450642.1939533902</td><td>True</td></tr>\n",
       "<tr><td>image</td><td>2</td><td>HST</td><td>u3n60114m</td><td>JUPITER</td><td>323.0363784023</td><td>-15.55360796223</td><td>50641.69529598</td><td>50641.69538858</td><td>8.0</td><td>Optical</td><td>F656N</td><td>655.3</td><td>657.5</td><td>PLANET; JUPITER</td><td>Lightning on Jupiter</td><td>51007.06</td><td>WFPC2/PC</td><td>Caldwell, John J.</td><td>7589</td><td>GTO/OS</td><td>HST</td><td>-999</td><td>CALWFPC2</td><td>POLYGON GSC1 323.03549229 -15.55431019 323.02821947 -15.56160648 323.02064597 -15.55460266 323.02792170 -15.54730657</td><td>mast:HST/product/u3n60114m_c0f.jpg</td><td>mast:HST/product/u3n60114m_c0f.fits</td><td>PUBLIC</td><td>True</td><td>--</td><td>science</td><td>2003628238</td><td>2029972950</td><td>2450642.19534228</td><td>True</td></tr>\n",
       "</table>"
      ],
      "text/plain": [
       "<Table length=44>\n",
       "dataProduct_Type calib_level obs_collection ...       t_mid        in_footprint\n",
       "     object         int32        object     ...      float64           bool    \n",
       "---------------- ----------- -------------- ... ------------------ ------------\n",
       "           image           2            HST ...  2450642.103640895         True\n",
       "           image           2            HST ...   2450642.10502978         True\n",
       "           image           2            HST ...  2450642.106418665         True\n",
       "           image           2            HST ... 2450642.1078075552         True\n",
       "           image           2            HST ...  2450642.109196445         True\n",
       "           image           2            HST ...  2450642.110585335         True\n",
       "           image           2            HST ...  2450642.111974225         True\n",
       "           image           2            HST ...  2450642.113363115         True\n",
       "           image           2            HST ...  2450642.114752005         True\n",
       "           image           2            HST ...  2450642.116140895         True\n",
       "             ...         ...            ... ...                ...          ...\n",
       "           image           2            HST ...  2450642.180718435         True\n",
       "           image           2            HST ...  2450642.182107325         True\n",
       "           image           2            HST ...  2450642.183496215         True\n",
       "           image           2            HST ...  2450642.184885105         True\n",
       "           image           2            HST ...  2450642.188357325         True\n",
       "           image           2            HST ...  2450642.189746215         True\n",
       "           image           2            HST ...  2450642.191135105         True\n",
       "           image           2            HST ...  2450642.192523995         True\n",
       "           image           2            HST ... 2450642.1939533902         True\n",
       "           image           2            HST ...   2450642.19534228         True"
      ]
     },
     "execution_count": 7,
     "metadata": {},
     "output_type": "execute_result"
    }
   ],
   "source": [
    "filtered_results = mast_tap.clean_up_results(results, obj_name=obj_name, id_type=id_type, location=location)\n",
    "\n",
    "filtered_results"
   ]
  },
  {
   "cell_type": "code",
   "execution_count": null,
   "metadata": {},
   "outputs": [],
   "source": []
  }
 ],
 "metadata": {
  "kernelspec": {
   "display_name": "Python 3",
   "language": "python",
   "name": "python3"
  },
  "language_info": {
   "codemirror_mode": {
    "name": "ipython",
    "version": 3
   },
   "file_extension": ".py",
   "mimetype": "text/x-python",
   "name": "python",
   "nbconvert_exporter": "python",
   "pygments_lexer": "ipython3",
   "version": "3.8.5"
  }
 },
 "nbformat": 4,
 "nbformat_minor": 4
}
